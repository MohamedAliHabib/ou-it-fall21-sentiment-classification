{
  "nbformat": 4,
  "nbformat_minor": 0,
  "metadata": {
    "colab": {
      "name": "github_it_fall21_sentiment_analysis.ipynb",
      "provenance": [],
      "collapsed_sections": []
    },
    "kernelspec": {
      "display_name": "Python 3",
      "name": "python3"
    },
    "language_info": {
      "name": "python"
    },
    "accelerator": "GPU"
  },
  "cells": [
    {
      "cell_type": "markdown",
      "metadata": {
        "id": "yFN-lkXSCj5J"
      },
      "source": [
        "# Modules"
      ]
    },
    {
      "cell_type": "code",
      "metadata": {
        "id": "GF7EbliMuIss"
      },
      "source": [
        "import os\n",
        "import sys\n",
        "import numpy as np\n",
        "import matplotlib.pyplot as plt\n",
        "import re\n",
        "import string\n",
        "import tensorflow as tf\n",
        "from sklearn.feature_extraction.text import TfidfVectorizer\n",
        "from sklearn.model_selection import train_test_split\n",
        "import matplotlib.pyplot as plt"
      ],
      "execution_count": null,
      "outputs": []
    },
    {
      "cell_type": "code",
      "metadata": {
        "colab": {
          "base_uri": "https://localhost:8080/",
          "height": 35
        },
        "id": "FEboBOJTD31g",
        "outputId": "0d253cc7-2eff-4647-fb85-0e7833c5b8da"
      },
      "source": [
        "tf.__version__"
      ],
      "execution_count": null,
      "outputs": [
        {
          "output_type": "execute_result",
          "data": {
            "application/vnd.google.colaboratory.intrinsic+json": {
              "type": "string"
            },
            "text/plain": [
              "'2.7.0'"
            ]
          },
          "metadata": {},
          "execution_count": 4
        }
      ]
    },
    {
      "cell_type": "code",
      "metadata": {
        "colab": {
          "base_uri": "https://localhost:8080/"
        },
        "id": "TplXlfgPByaJ",
        "outputId": "4b78f4fa-db35-48a1-904d-01887659c0df"
      },
      "source": [
        "%tensorflow_version 2.x\n",
        "import tensorflow as tf\n",
        "device_name = tf.test.gpu_device_name()\n",
        "if device_name != '/device:GPU:0':\n",
        "  raise SystemError('GPU device not found')\n",
        "print('Found GPU at: {}'.format(device_name))"
      ],
      "execution_count": null,
      "outputs": [
        {
          "output_type": "stream",
          "name": "stdout",
          "text": [
            "Found GPU at: /device:GPU:0\n"
          ]
        }
      ]
    },
    {
      "cell_type": "markdown",
      "metadata": {
        "id": "UeTQrawEs3Ca"
      },
      "source": [
        "# Load dataset"
      ]
    },
    {
      "cell_type": "code",
      "metadata": {
        "id": "q-fUXVYks2cd"
      },
      "source": [
        "def load_dataset(folder_path, test_size=0.1):\n",
        "  folders = ['train', 'test']\n",
        "  sub_folders = ['pos', 'neg']\n",
        "\n",
        "  X, Y = list(), list()\n",
        "  \n",
        "  for folder in folders:\n",
        "    for sub_folder in sub_folders:\n",
        "      path = os.path.join(folder_path, f\"{folder}/{sub_folder}\")\n",
        "      files = os.listdir(path)\n",
        "      print(f'Reading {len(files)} files in: {path}')\n",
        "      for file_name in files:\n",
        "        with open(os.path.join(path, file_name), 'r', encoding='utf-8') as f:\n",
        "          text = f.read()\n",
        "          \n",
        "          # if folder == 'train':\n",
        "          X.append(text)\n",
        "          if sub_folder == 'pos':\n",
        "            Y.append(1)\n",
        "          else:\n",
        "            Y.append(0)\n",
        "          # else:\n",
        "          #   X_test.append(text)\n",
        "          #   if sub_folder == 'pos':\n",
        "          #     Y_test.append(1)\n",
        "          #   else:\n",
        "          #     Y_test.append(0)\n",
        "          \n",
        "  X, Y = np.array(X), np.array(Y)\n",
        "  X, X_test, Y, Y_test = train_test_split(X, Y, test_size=test_size, shuffle=True)\n",
        "  \n",
        "  return X, Y, X_test, Y_test"
      ],
      "execution_count": null,
      "outputs": []
    },
    {
      "cell_type": "code",
      "metadata": {
        "colab": {
          "base_uri": "https://localhost:8080/"
        },
        "id": "inA1_Ldks2hm",
        "outputId": "ce6a634e-ff44-437c-bc14-4b24ec0a8122"
      },
      "source": [
        "path = \"/content/aclImdb/\"\n",
        "X, Y, X_test, Y_test = load_dataset(folder_path=path, test_size=0.1)"
      ],
      "execution_count": null,
      "outputs": [
        {
          "output_type": "stream",
          "name": "stdout",
          "text": [
            "Reading 12500 files in: /content/aclImdb/train/pos\n",
            "Reading 12500 files in: /content/aclImdb/train/neg\n",
            "Reading 12500 files in: /content/aclImdb/test/pos\n",
            "Reading 12500 files in: /content/aclImdb/test/neg\n"
          ]
        }
      ]
    },
    {
      "cell_type": "code",
      "metadata": {
        "id": "FDW6LNaCs2nP",
        "colab": {
          "base_uri": "https://localhost:8080/"
        },
        "outputId": "7caac3eb-7d2e-48ae-99b6-eace351f12dc"
      },
      "source": [
        "print(X.shape, Y.shape, X_test.shape, Y_test.shape)\n",
        "print(Y[0], X[0])\n",
        "print(Y_test[0], X_test[0])"
      ],
      "execution_count": null,
      "outputs": [
        {
          "output_type": "stream",
          "name": "stdout",
          "text": [
            "(45000,) (45000,) (5000,) (5000,)\n",
            "0 After reading the reviews I decided to rent the DVD version. <br /><br />I like classical music and wanted to learn more about Bach. <br /><br />I was disappointed. I guess I do not know enough about Bach music and the the comments were not enough for me to understand the importance or what music was being played. <br /><br />Maybe it would be appropriate with the guidance of an expert in Bach's music that can explain the film. <br /><br />I really tried and saw the whole film hopping that I would be able to enjoy at least some of it, but I did not. <br /><br />See it at your own risk.\n",
            "1 I can remember seeing this movie when I was very young and several times on TV since then. I have always liked it. I have noticed on the print shown on local TV that one scene has reversed film. It is the one where they are hiding behind the rock outcrop(it looks like Vasquez Rocks near Los Angeles) watching the Indians ride by. If you look carefully, you will notice that suddenly all the soldiers are left-handed! It is only a short segment and I have to admit that it took me years to notice it.<br /><br />As far as history goes, there were often expeditions to rescue white captives from the Indians. The direct connection for the final battle scene is the Battle of Beecher's Island. In that action, a group of volunteer scouts equipped with repeating carbines (Spencer carbines not Winchesters) were surprised by the Indians and retreated to an island and held off several charges. In the last charge, they killed Roman Nose, one of the more famous Indian Chiefs. I have no idea if the writer of the script had this in mind but it does fit fairly well.<br /><br />There are several Guy Madison movies that I hope come out on DVD someday and this is one of them.\n"
          ]
        }
      ]
    },
    {
      "cell_type": "markdown",
      "source": [
        "`Glove Word Embeddings` do not contain representation for abbreviations like `I've`, one of the preprocessing steps was to unpack those abbreviations. Similarly, the corpus had to contain only English alphabet characters. Lastly, extra whitespaces were truncated. Also, punctuation is removed; using the Keras tokenizer, so we don't need to do it here."
      ],
      "metadata": {
        "id": "FKSt3G16r8_G"
      }
    },
    {
      "cell_type": "code",
      "metadata": {
        "id": "ElySLLagZmtv"
      },
      "source": [
        "def preprocess_data(reviews):\n",
        "\n",
        "  rep = {\n",
        "    # \".\": \" . \", \n",
        "    # \",\": \" , \", \n",
        "    # \"(\": \" ( \", \n",
        "    # \")\": \" ) \", \n",
        "    # \"[\": \" [ \", \n",
        "    # \"]\": \" ] \",\n",
        "    # \"\\\"\": \" \\\" \", \n",
        "    \"<br />\": \" \", \n",
        "    \"'ve\": \" have\", \n",
        "    \"'d\": \" would\", \n",
        "    \"don't\": \"do not\", \n",
        "    \"doesn't\": \"does not\", \n",
        "    \"did't\": \"did not\", \n",
        "    \"won't\": \"will not\", \n",
        "    \"can't\": \"cannot\", \n",
        "    \"should't\": \"should not\", \n",
        "    \"would't\": \"would not\", \n",
        "    \"isn't\": \"is not\",\n",
        "    \"haven't\": \"have not\",\n",
        "    \"hasn't\": \"has not\",\n",
        "    \"hadn't\": \"had not\",\n",
        "    \"weren't\": \"were not\",\n",
        "    \"wasn't\": \"was not\", \n",
        "    \"'ll\": \" will\", \n",
        "    \"'re\": \" are\", \n",
        "    \"it's\": \"it is\",\n",
        "    \"It's\": \"it is\", \n",
        "    \"it´s\": \"it is\",\n",
        "    \"he's\": \"he is\", \n",
        "    \"he’s\": \"he is\",\n",
        "    \"she's\": \"she is\", \n",
        "    \"here's\": \"here is\", \n",
        "    \"i'm\": \"i am\", \n",
        "    \"they've\": \"they have\", \n",
        "    \"we've\": \"we have\", \n",
        "    \"That's\": \"that is\", \n",
        "    \"what's\": \"what is\", \n",
        "    \"what're\": \"what are\", \n",
        "    \"who's\": \"who is\", \n",
        "    \"that's\": \"that is\", \n",
        "    \"let\\'s\": \"let us\", \n",
        "    \"c'mon\": \"come on\", \n",
        "    # \"-\": \" - \",\n",
        "    # \"+\": \" + \",\n",
        "    # \"&\": \" & \", \n",
        "    # \"$\": \" $ \",\n",
        "    # \"%\": \" % \",\n",
        "    # \"*\": \" * \",\n",
        "    # \"/\": \" / \",\n",
        "    # \"\\\\\": \" \\\\ \",\n",
        "    # \"?\": \" ? \", \n",
        "    # \"!\": \" ! \", \n",
        "    # \"@\": \" @ \", \n",
        "    # \"#\": \" # \",\n",
        "    # \":\": \" : \",\n",
        "    # \";\": \" ; \",\n",
        "    # \"`\": \" ` \",\n",
        "    # \"`\": \" ` \",\n",
        "    # \"\\'\": \" \\' \"\n",
        "  }\n",
        "\n",
        "  rep = dict((re.escape(k), v) for k, v in rep.items()) \n",
        "  pattern = re.compile(\"|\".join(rep.keys()))\n",
        "  \n",
        "  for index in range(len(reviews)):\n",
        "    reviews[index] = pattern.sub(lambda m: rep[re.escape(m.group(0))], reviews[index])\n",
        "    # reviews[index] = reviews[index].translate(str.maketrans('', '', string.punctuation))\n",
        "    reviews[index] = re.sub(r'[^a-zA-Z]', ' ', reviews[index])\n",
        "    reviews[index] = re.sub(r'\\s+', ' ', reviews[index])\n",
        "    \n",
        "  return reviews"
      ],
      "execution_count": null,
      "outputs": []
    },
    {
      "cell_type": "code",
      "metadata": {
        "id": "c4lg1XCRgBR-",
        "colab": {
          "base_uri": "https://localhost:8080/"
        },
        "outputId": "45cb0204-2a0f-4659-e4a9-03331cdb4ac7"
      },
      "source": [
        "print(X[0])"
      ],
      "execution_count": null,
      "outputs": [
        {
          "output_type": "stream",
          "name": "stdout",
          "text": [
            "\"The Evil That Men Do\" begins with a truly repellent torture scene, followed, a little later, by graphic verbal descriptions of equally repellent torture methods that the sadistic, heartless villain likes to use. But despite the use of such strictly-for-shock effects, the filmmakers can't really cover up the fact that this is just a dull, low-grade Bronson vehicle. Bronson himself is solid here, but he should have chosen a better script.\n"
          ]
        }
      ]
    },
    {
      "cell_type": "code",
      "metadata": {
        "id": "zaHGXl7Vadd7"
      },
      "source": [
        "X = preprocess_data(X)\n",
        "X_test = preprocess_data(X_test)"
      ],
      "execution_count": null,
      "outputs": []
    },
    {
      "cell_type": "code",
      "metadata": {
        "id": "H4608c0ygGRe",
        "colab": {
          "base_uri": "https://localhost:8080/"
        },
        "outputId": "17e21581-1a86-4bd1-c29e-a758dc92037c"
      },
      "source": [
        "print(X[0])"
      ],
      "execution_count": null,
      "outputs": [
        {
          "output_type": "stream",
          "name": "stdout",
          "text": [
            " The Evil That Men Do begins with a truly repellent torture scene followed a little later by graphic verbal descriptions of equally repellent torture methods that the sadistic heartless villain likes to use But despite the use of such strictly for shock effects the filmmakers cannot really cover up the fact that this is just a dull low grade Bronson vehicle Bronson himself is solid here but he should have chosen a better script \n"
          ]
        }
      ]
    },
    {
      "cell_type": "markdown",
      "source": [
        "Tokenize: turn each sentence into a sequence of integers (each integer being the index of a token in a dictionary). *Using Tensorflow Tokenizer*\n",
        "Therefore each review in corpus will become a matrix of indices, one for each word."
      ],
      "metadata": {
        "id": "VHFzX_j0sqF0"
      }
    },
    {
      "cell_type": "code",
      "metadata": {
        "id": "kR7ALb1FsUKj"
      },
      "source": [
        "def tokenize(sentences, vocab_size, max_seq_len):\n",
        "  \n",
        "    \"\"\"\n",
        "    Using Tensorflow Tokenizer to turn each sentence into a sequence of integers \n",
        "    (each integer being the index of a token in a dictionary).\n",
        "    Arguments:\n",
        "      X: a list or a NumPy array of strings, where each element is a sentence.\n",
        "    Returns:\n",
        "      tensor: a NumPy ndarray, where each row represents the the sequence of\n",
        "              integers that maps the words of the equivalent sentence in \n",
        "              the `sentences` list to a their indices (for embbedings). shape=(batch_size, )\n",
        "      lang_tokenizer: a Tensorflow Tokenizer which have been fit on `sentences`.\n",
        "    \"\"\" \n",
        "\n",
        "    # https://www.tensorflow.org/api_docs/python/tf/keras/preprocessing/text/Tokenizer\n",
        "    # the Tokennizer removes punctuation implicitly\n",
        "    lang_tokenizer = tf.keras.preprocessing.text.Tokenizer(num_words=vocab_size) \n",
        "                                                          #  filters='')\n",
        "    lang_tokenizer.fit_on_texts(sentences)\n",
        "\n",
        "    tensor = lang_tokenizer.texts_to_sequences(sentences)\n",
        "    tensor = tf.keras.preprocessing.sequence.pad_sequences(tensor, padding='post', maxlen=max_seq_len)\n",
        "\n",
        "    return tensor, lang_tokenizer"
      ],
      "execution_count": null,
      "outputs": []
    },
    {
      "cell_type": "code",
      "metadata": {
        "id": "_X07Mwebseti"
      },
      "source": [
        "# hyperparameter\n",
        "VOCAB_SIZE = 30000"
      ],
      "execution_count": null,
      "outputs": []
    },
    {
      "cell_type": "markdown",
      "source": [
        "A maximum sequence length, for each review, must be specified, otherwise the data will end up having a very long one `(2500+)` and the data will end up having mostly zeros which will affect the model in a bad way; making it assume almost always most of input is zero and I tested for this case and the accuracy was bouncing around `50%` which is no better than random guessing. That's why I picked the maximum sequence length to be the average sequence length of reviews in corpus, which was `(235)` and this improved the accuracy substantially."
      ],
      "metadata": {
        "id": "Ly1tJ6t1qJs2"
      }
    },
    {
      "cell_type": "code",
      "metadata": {
        "colab": {
          "base_uri": "https://localhost:8080/"
        },
        "id": "4r2zhU6fsVLA",
        "outputId": "fbe08211-324c-443b-b4e3-b0dfa648471e"
      },
      "source": [
        "# we need to fit the tokenizer on all sentences/reviews; to create word_index and \n",
        "# index_word mapper dictionaries for the most frequent VOCAB_SIZE= 30,000 words.\n",
        "texts = np.concatenate((X, X_test))\n",
        "# max sequence length; it's fair to pick this to be the average length in corpus\n",
        "max_seq_len = np.int(np.mean([len(x.split(' ')) for x in texts]))\n",
        "print(f'Average Sequence Length: {max_seq_len}')\n",
        "# tokenize the data\n",
        "tensor, text_tokenizer = tokenize(texts, VOCAB_SIZE+1, max_seq_len)\n",
        "\n",
        "print(f\"texts[0]= {texts[0]}\")\n",
        "print(f\"tensor[0]= {tensor[0]}\")"
      ],
      "execution_count": null,
      "outputs": [
        {
          "output_type": "stream",
          "name": "stdout",
          "text": [
            "Average Sequence Length: 235\n",
            "texts[0]=  Take Fame and You have Got Served and roughly jam them together and what do you got This God awful movie custom made for dull normal adolescents The plot very closely follows You have Got Served Three ghetto afro teeners this time living in John Water s Baltimore not far from Peckers home spend their time getting failing grades in high school and dancing in dilapidated year old buildings with hoochy mamas To finance their expensive baggy hip hop clothing tastes they steal cars and deliver them to the local chop shop not unlike John Tony Manaro Travolta who worked in a Brooklyn paint store so he could purchase his polyester disco clothes Tyler Gage one of the black three musketeers gets caught trashing the local Fame High School and is forced to perform janitorial duties He meets Nora Clark a year old white high school student and discovers he is Irish American much to the chagrin of his black buddies Mac and Skinny As in You have Got Served crime does not pay and Skinny the youngest member of the trio gets shot by a Bad Bad Leroy Brown type but that does not stop the music and heart stopping finale \n",
            "tensor[0]= [  184  1949     2    21    23   187  2770     2  7226  8498    92   288\n",
            "     2    47    46    21   187    10   487   363    15 11004    90    16\n",
            "   738  1205 14817     1   111    53  3171  1079    21    23   187  2770\n",
            "   269  6597  9366    10    58   566     8   300   941    20 12280    12\n",
            "   219    36   333  1131    66    58   371  4089 13529     8   290   354\n",
            "     2  1070     8 15363   285   155  4113    17     6 10242    66  3352\n",
            " 19914  2867  5046  4006  4827    31  2040  1861     2  1621    92     6\n",
            "     1   681  6861  1836    12  1006   300  1346  5374    34   926     8\n",
            "     3  4997  2714  1053    35    25    96  4190    26 17897  6063  1659\n",
            "  4326 11303    27     4     1   305   269   212  1002 14532     1   681\n",
            "  1949   290   354     2     5   874     6  2835  9264    25   886  9077\n",
            "  2801     3   285   155   438   290   354  1354     2  2102    25     5\n",
            "  2415   277    76     6     1 14264     4    26   305  3958  8574     2\n",
            "  6740    14     8    21    23   187  2770   797    74    12   947     2\n",
            "  6740     1  5720  1610     4     1  3832   212   310    32     3    77\n",
            "    77 12659  1703   525    18    11    74    12   523     1   202     2\n",
            "   471  5297  1954     0     0     0     0     0     0     0     0     0\n",
            "     0     0     0     0     0     0     0     0     0     0     0     0\n",
            "     0     0     0     0     0     0     0     0     0     0     0     0\n",
            "     0     0     0     0     0     0     0]\n"
          ]
        }
      ]
    },
    {
      "cell_type": "code",
      "metadata": {
        "colab": {
          "base_uri": "https://localhost:8080/"
        },
        "id": "4RMSRG4rsVSg",
        "outputId": "d6409296-7fcf-4679-f0e3-5904e45f963a"
      },
      "source": [
        "tensor.shape, texts.shape"
      ],
      "execution_count": null,
      "outputs": [
        {
          "output_type": "execute_result",
          "data": {
            "text/plain": [
              "((50000, 235), (50000,))"
            ]
          },
          "metadata": {},
          "execution_count": 14
        }
      ]
    },
    {
      "cell_type": "code",
      "metadata": {
        "id": "nmayScD1sVaR"
      },
      "source": [
        "X, X_test = tensor[:len(X)], tensor[len(X):]"
      ],
      "execution_count": null,
      "outputs": []
    },
    {
      "cell_type": "code",
      "metadata": {
        "colab": {
          "base_uri": "https://localhost:8080/"
        },
        "id": "QdJVSK-Hdo8e",
        "outputId": "73fecb06-32a9-4bd7-8d40-4a625725da75"
      },
      "source": [
        "print(X.shape, X_test.shape)"
      ],
      "execution_count": null,
      "outputs": [
        {
          "output_type": "stream",
          "name": "stdout",
          "text": [
            "(45000, 235) (5000, 235)\n"
          ]
        }
      ]
    },
    {
      "cell_type": "code",
      "metadata": {
        "id": "iwGlo3xSSm05"
      },
      "source": [
        "def read_glove_vectors(glove_file):\n",
        "    \"\"\"\n",
        "    This function reads GloVe vectors from .txt file and \n",
        "    returns a word to vector dictionary.\n",
        "    Arguments:\n",
        "      glove_file: a string path to GloVe word embeddings file.\n",
        "    Returns:\n",
        "      word_to_vec: a Python dictionary that maps words to their embeddings.\n",
        "    \"\"\"\n",
        "\n",
        "    import numpy as np\n",
        "    \n",
        "    # open the file\n",
        "    with open(glove_file, 'r', encoding=\"utf-8\") as f:\n",
        "        \n",
        "        words = set()\n",
        "        word_to_vec = {}\n",
        "\n",
        "        # loop over the rows in the file\n",
        "        for line in f:\n",
        "            # read the line, strip it (remove leading and trailing spaces) and split it\n",
        "            line = line.strip().split()\n",
        "            # first item in the list 'line' is the word itself\n",
        "            curr_word = line[0]\n",
        "            # add the word to set of words\n",
        "            words.add(curr_word)\n",
        "            # add the words with its vector representation as a (key, value) pair to the dictionary\n",
        "            word_to_vec[curr_word] = np.array(line[1:], dtype=np.float64)\n",
        "\n",
        "    return word_to_vec"
      ],
      "execution_count": null,
      "outputs": []
    },
    {
      "cell_type": "code",
      "metadata": {
        "id": "-OGqvDUYrqNJ"
      },
      "source": [
        "glove_file = \"/content/glove.6B.300d.txt\"\n",
        "word_to_vec = read_glove_vectors(glove_file)"
      ],
      "execution_count": null,
      "outputs": []
    },
    {
      "cell_type": "code",
      "metadata": {
        "colab": {
          "base_uri": "https://localhost:8080/"
        },
        "id": "a0WLRB-Yr5ix",
        "outputId": "c923c08f-5460-4afd-b732-d9b5219eeb14"
      },
      "source": [
        "print(len(word_to_vec))"
      ],
      "execution_count": null,
      "outputs": [
        {
          "output_type": "stream",
          "name": "stdout",
          "text": [
            "400000\n"
          ]
        }
      ]
    },
    {
      "cell_type": "code",
      "metadata": {
        "colab": {
          "base_uri": "https://localhost:8080/"
        },
        "id": "4Y_0dp3z49S3",
        "outputId": "c9cfff4a-a481-4f78-91a1-8a08f210eed6"
      },
      "source": [
        "word_to_vec['the'].shape"
      ],
      "execution_count": null,
      "outputs": [
        {
          "output_type": "execute_result",
          "data": {
            "text/plain": [
              "(300,)"
            ]
          },
          "metadata": {},
          "execution_count": 20
        }
      ]
    },
    {
      "cell_type": "markdown",
      "metadata": {
        "id": "5cceZM98SZc2"
      },
      "source": [
        "# Model"
      ]
    },
    {
      "cell_type": "code",
      "metadata": {
        "id": "_g4JgnKLsD2-"
      },
      "source": [
        "BUFFER_SIZE = X.shape[0]\n",
        "BATCH_SIZE = 256\n",
        "steps_per_epoch = BUFFER_SIZE//BATCH_SIZE \n",
        "embedding_dim = 300\n",
        "units = 128 \n",
        "vocab_size = VOCAB_SIZE + 1"
      ],
      "execution_count": null,
      "outputs": []
    },
    {
      "cell_type": "code",
      "metadata": {
        "id": "kYmsPqLjmfxz"
      },
      "source": [
        "def emb_matrix(vocab_size, tokenizer, embedding_dim):\n",
        "  \"\"\"\n",
        "  Returns an embeddings matrix for the words in the vocabulary.\n",
        "  Arguments:\n",
        "      vocab_size: an integer.\n",
        "      tokenizer: A Keras tokenizer fit on corpus.\n",
        "      embedding_dim: an integer, dimension of word embeddings.\n",
        "  Returns:\n",
        "      embedding_matrix: a NumPy array with shape of (vocab_size + 1, emb_dim).\n",
        "  \"\"\"\n",
        "  \n",
        "  # word_index = tokenizer.word_index[:vocab_size]\n",
        "  words = list(tokenizer.word_index.keys())[:vocab_size]\n",
        "  embedding_matrix = np.zeros((vocab_size, embedding_dim), dtype=np.float64)\n",
        "  words_oov_count = 0\n",
        "\n",
        "  for i, word in enumerate(words):\n",
        "\n",
        "    embedding_vector = word_to_vec.get(word)\n",
        "    \n",
        "    if embedding_vector is not None:\n",
        "      # words not found in embedding index will be all-zeros.\n",
        "      embedding_matrix[i] = embedding_vector\n",
        "    else:\n",
        "      words_oov_count += 1\n",
        "\n",
        "  print(f'# of words out of vocabulary: {words_oov_count}')\n",
        "\n",
        "  return embedding_matrix"
      ],
      "execution_count": null,
      "outputs": []
    },
    {
      "cell_type": "code",
      "metadata": {
        "colab": {
          "base_uri": "https://localhost:8080/"
        },
        "id": "fsbj9whmm9MB",
        "outputId": "3d2f2a7d-465f-4f55-c22d-bb1675dd3ea2"
      },
      "source": [
        "emb = emb_matrix(vocab_size, text_tokenizer, embedding_dim)\n",
        "emb.shape"
      ],
      "execution_count": null,
      "outputs": [
        {
          "output_type": "stream",
          "name": "stdout",
          "text": [
            "# of words out of vocabulary: 432\n"
          ]
        },
        {
          "output_type": "execute_result",
          "data": {
            "text/plain": [
              "(30001, 300)"
            ]
          },
          "metadata": {},
          "execution_count": 24
        }
      ]
    },
    {
      "cell_type": "code",
      "metadata": {
        "id": "DcKLLvtd7it6"
      },
      "source": [
        "X_train, X_val, Y_train, Y_val = train_test_split(X, Y, test_size=0.1)  "
      ],
      "execution_count": null,
      "outputs": []
    },
    {
      "cell_type": "code",
      "metadata": {
        "id": "6XX9DpxOYsZW"
      },
      "source": [
        "checkpoints = tf.keras.callbacks.ModelCheckpoint(\n",
        "  filepath= \"/content/drive/MyDrive/University of Oklahoma/Fall 2021/ECE 5583-980 Information Theory and Probabilistic Programming/Project/Model Checkpoints/LSTM_MODEL_1\", \n",
        "  monitor=\"val_accuracy\", \n",
        "  save_best_only=True\n",
        ")"
      ],
      "execution_count": null,
      "outputs": []
    },
    {
      "cell_type": "code",
      "source": [
        "checkpoints.filepath"
      ],
      "metadata": {
        "colab": {
          "base_uri": "https://localhost:8080/",
          "height": 35
        },
        "id": "6Jy_ijAHts49",
        "outputId": "9b7d0848-bc2f-4804-ecfe-5e7be825eeca"
      },
      "execution_count": null,
      "outputs": [
        {
          "output_type": "execute_result",
          "data": {
            "application/vnd.google.colaboratory.intrinsic+json": {
              "type": "string"
            },
            "text/plain": [
              "'/content/drive/MyDrive/University of Oklahoma/Fall 2021/ECE 5583-980 Information Theory and Probabilistic Programming/Project/Model Checkpoints/LSTM_MODEL_1'"
            ]
          },
          "metadata": {},
          "execution_count": 27
        }
      ]
    },
    {
      "cell_type": "code",
      "metadata": {
        "id": "RPlgx1uFSheI",
        "colab": {
          "base_uri": "https://localhost:8080/"
        },
        "outputId": "ffbb58b5-ba55-4d86-d69c-62dc455e475d"
      },
      "source": [
        "print(X.shape, Y.shape, X_test.shape, Y_test.shape)"
      ],
      "execution_count": null,
      "outputs": [
        {
          "output_type": "stream",
          "name": "stdout",
          "text": [
            "(45000, 235) (45000,) (5000, 235) (5000,)\n"
          ]
        }
      ]
    },
    {
      "cell_type": "code",
      "metadata": {
        "colab": {
          "base_uri": "https://localhost:8080/"
        },
        "id": "PzprxHn_iZzl",
        "outputId": "20ad5cc6-fa09-495e-8dc2-92d0147a379d"
      },
      "source": [
        "print(units)\n",
        "print(emb.shape)"
      ],
      "execution_count": null,
      "outputs": [
        {
          "output_type": "stream",
          "name": "stdout",
          "text": [
            "128\n",
            "(30001, 300)\n"
          ]
        }
      ]
    },
    {
      "cell_type": "code",
      "metadata": {
        "colab": {
          "base_uri": "https://localhost:8080/"
        },
        "id": "ewlccixu2k8p",
        "outputId": "ee77e297-08d2-43df-a457-cff823eec307"
      },
      "source": [
        "print(len(text_tokenizer.word_index)+1)\n",
        "print(vocab_size)"
      ],
      "execution_count": null,
      "outputs": [
        {
          "output_type": "stream",
          "name": "stdout",
          "text": [
            "99675\n",
            "30001\n"
          ]
        }
      ]
    },
    {
      "cell_type": "code",
      "metadata": {
        "colab": {
          "base_uri": "https://localhost:8080/"
        },
        "id": "mY0fakRdQ1yh",
        "outputId": "7161ae10-ac69-466c-d4ab-d993b732c3af"
      },
      "source": [
        "\n",
        "model = tf.keras.Sequential()\n",
        "\n",
        "model.add(\n",
        "  tf.keras.layers.Embedding(\n",
        "    input_dim= vocab_size,\n",
        "    output_dim=embedding_dim, \n",
        "    input_length=X.shape[1],\n",
        "    trainable=False,\n",
        "    weights= [emb]\n",
        "  )\n",
        ")\n",
        "\n",
        "model.add(tf.keras.layers.Conv1D(units, 10, activation='relu'))\n",
        "\n",
        "model.add(tf.keras.layers.BatchNormalization())\n",
        "\n",
        "model.add(tf.keras.layers.Dropout(0.5))\n",
        "\n",
        "model.add(\n",
        "  tf.keras.layers.Bidirectional(\n",
        "    tf.keras.layers.LSTM(units, return_sequences=True),\n",
        "    input_shape=(X.shape[1], embedding_dim)\n",
        "  )\n",
        ")\n",
        "\n",
        "model.add(tf.keras.layers.BatchNormalization())\n",
        "\n",
        "model.add(tf.keras.layers.Dropout(0.5))\n",
        "\n",
        "model.add(tf.keras.layers.LSTM(64))\n",
        "\n",
        "model.add(tf.keras.layers.BatchNormalization())\n",
        "\n",
        "model.add(tf.keras.layers.Dropout(0.5))\n",
        "\n",
        "model.add(\n",
        "  # tf.keras.layers.TimeDistributed(\n",
        "      tf.keras.layers.Dense(1, activation='sigmoid')\n",
        "  # )\n",
        ")\n",
        "\n",
        "model.summary()"
      ],
      "execution_count": null,
      "outputs": [
        {
          "output_type": "stream",
          "name": "stdout",
          "text": [
            "Model: \"sequential\"\n",
            "_________________________________________________________________\n",
            " Layer (type)                Output Shape              Param #   \n",
            "=================================================================\n",
            " embedding (Embedding)       (None, 235, 300)          9000300   \n",
            "                                                                 \n",
            " conv1d (Conv1D)             (None, 226, 128)          384128    \n",
            "                                                                 \n",
            " batch_normalization (BatchN  (None, 226, 128)         512       \n",
            " ormalization)                                                   \n",
            "                                                                 \n",
            " dropout (Dropout)           (None, 226, 128)          0         \n",
            "                                                                 \n",
            " bidirectional (Bidirectiona  (None, 226, 256)         263168    \n",
            " l)                                                              \n",
            "                                                                 \n",
            " batch_normalization_1 (Batc  (None, 226, 256)         1024      \n",
            " hNormalization)                                                 \n",
            "                                                                 \n",
            " dropout_1 (Dropout)         (None, 226, 256)          0         \n",
            "                                                                 \n",
            " lstm_1 (LSTM)               (None, 64)                82176     \n",
            "                                                                 \n",
            " batch_normalization_2 (Batc  (None, 64)               256       \n",
            " hNormalization)                                                 \n",
            "                                                                 \n",
            " dropout_2 (Dropout)         (None, 64)                0         \n",
            "                                                                 \n",
            " dense (Dense)               (None, 1)                 65        \n",
            "                                                                 \n",
            "=================================================================\n",
            "Total params: 9,731,629\n",
            "Trainable params: 730,433\n",
            "Non-trainable params: 9,001,196\n",
            "_________________________________________________________________\n"
          ]
        }
      ]
    },
    {
      "cell_type": "code",
      "metadata": {
        "id": "E47QHRTYSYj-"
      },
      "source": [
        "model.compile(loss='binary_crossentropy', optimizer='adam', metrics=['accuracy'])"
      ],
      "execution_count": null,
      "outputs": []
    },
    {
      "cell_type": "code",
      "metadata": {
        "colab": {
          "base_uri": "https://localhost:8080/"
        },
        "id": "I8EY_vEIRo6p",
        "outputId": "b0a54e27-5323-4ca0-8678-fe6eababd3e6"
      },
      "source": [
        "print(X_train.shape, Y_train.shape, X_val.shape, Y_val.shape)"
      ],
      "execution_count": null,
      "outputs": [
        {
          "output_type": "stream",
          "name": "stdout",
          "text": [
            "(40500, 235) (40500,) (4500, 235) (4500,)\n"
          ]
        }
      ]
    },
    {
      "cell_type": "markdown",
      "source": [
        "## Train Bidirectional LSTM with a CNN layer:"
      ],
      "metadata": {
        "id": "sFTunonaxIjV"
      }
    },
    {
      "cell_type": "code",
      "source": [
        "model.fit(X_train, Y_train, epochs=50, validation_data=(X_val, Y_val), callbacks=[checkpoints])"
      ],
      "metadata": {
        "colab": {
          "base_uri": "https://localhost:8080/"
        },
        "id": "YDJQRHwiRfUf",
        "outputId": "dbf992f2-26c3-4656-d216-e8176f9f648d"
      },
      "execution_count": null,
      "outputs": [
        {
          "output_type": "stream",
          "name": "stdout",
          "text": [
            "Epoch 1/50\n",
            "1266/1266 [==============================] - ETA: 0s - loss: 0.7496 - accuracy: 0.5175"
          ]
        },
        {
          "output_type": "stream",
          "name": "stderr",
          "text": [
            "WARNING:absl:Found untraced functions such as lstm_cell_3_layer_call_fn, lstm_cell_3_layer_call_and_return_conditional_losses, lstm_cell_1_layer_call_fn, lstm_cell_1_layer_call_and_return_conditional_losses, lstm_cell_2_layer_call_fn while saving (showing 5 of 15). These functions will not be directly callable after loading.\n"
          ]
        },
        {
          "output_type": "stream",
          "name": "stdout",
          "text": [
            "INFO:tensorflow:Assets written to: /content/drive/MyDrive/University of Oklahoma/Fall 2021/ECE 5583-980 Information Theory and Probabilistic Programming/Project/Model Checkpoints/LSTM_MODEL_1/assets\n"
          ]
        },
        {
          "output_type": "stream",
          "name": "stderr",
          "text": [
            "INFO:tensorflow:Assets written to: /content/drive/MyDrive/University of Oklahoma/Fall 2021/ECE 5583-980 Information Theory and Probabilistic Programming/Project/Model Checkpoints/LSTM_MODEL_1/assets\n",
            "WARNING:absl:<keras.layers.recurrent.LSTMCell object at 0x7f49a3fd7e10> has the same name 'LSTMCell' as a built-in Keras object. Consider renaming <class 'keras.layers.recurrent.LSTMCell'> to avoid naming conflicts when loading with `tf.keras.models.load_model`. If renaming is not possible, pass the object in the `custom_objects` parameter of the load function.\n",
            "WARNING:absl:<keras.layers.recurrent.LSTMCell object at 0x7f49a420ae10> has the same name 'LSTMCell' as a built-in Keras object. Consider renaming <class 'keras.layers.recurrent.LSTMCell'> to avoid naming conflicts when loading with `tf.keras.models.load_model`. If renaming is not possible, pass the object in the `custom_objects` parameter of the load function.\n",
            "WARNING:absl:<keras.layers.recurrent.LSTMCell object at 0x7f49a41d8ed0> has the same name 'LSTMCell' as a built-in Keras object. Consider renaming <class 'keras.layers.recurrent.LSTMCell'> to avoid naming conflicts when loading with `tf.keras.models.load_model`. If renaming is not possible, pass the object in the `custom_objects` parameter of the load function.\n"
          ]
        },
        {
          "output_type": "stream",
          "name": "stdout",
          "text": [
            "1266/1266 [==============================] - 296s 220ms/step - loss: 0.7496 - accuracy: 0.5175 - val_loss: 0.6860 - val_accuracy: 0.5791\n",
            "Epoch 2/50\n",
            "1266/1266 [==============================] - 252s 199ms/step - loss: 0.6645 - accuracy: 0.5911 - val_loss: 0.7203 - val_accuracy: 0.5504\n",
            "Epoch 3/50\n",
            "1266/1266 [==============================] - 252s 199ms/step - loss: 0.6197 - accuracy: 0.6670 - val_loss: 0.9403 - val_accuracy: 0.5044\n",
            "Epoch 4/50\n",
            "1266/1266 [==============================] - 252s 199ms/step - loss: 0.5837 - accuracy: 0.7022 - val_loss: 0.9433 - val_accuracy: 0.5316\n",
            "Epoch 5/50\n",
            "1266/1266 [==============================] - ETA: 0s - loss: 0.5435 - accuracy: 0.7333"
          ]
        },
        {
          "output_type": "stream",
          "name": "stderr",
          "text": [
            "WARNING:absl:Found untraced functions such as lstm_cell_3_layer_call_fn, lstm_cell_3_layer_call_and_return_conditional_losses, lstm_cell_1_layer_call_fn, lstm_cell_1_layer_call_and_return_conditional_losses, lstm_cell_2_layer_call_fn while saving (showing 5 of 15). These functions will not be directly callable after loading.\n"
          ]
        },
        {
          "output_type": "stream",
          "name": "stdout",
          "text": [
            "INFO:tensorflow:Assets written to: /content/drive/MyDrive/University of Oklahoma/Fall 2021/ECE 5583-980 Information Theory and Probabilistic Programming/Project/Model Checkpoints/LSTM_MODEL_1/assets\n"
          ]
        },
        {
          "output_type": "stream",
          "name": "stderr",
          "text": [
            "INFO:tensorflow:Assets written to: /content/drive/MyDrive/University of Oklahoma/Fall 2021/ECE 5583-980 Information Theory and Probabilistic Programming/Project/Model Checkpoints/LSTM_MODEL_1/assets\n",
            "WARNING:absl:<keras.layers.recurrent.LSTMCell object at 0x7f49a3fd7e10> has the same name 'LSTMCell' as a built-in Keras object. Consider renaming <class 'keras.layers.recurrent.LSTMCell'> to avoid naming conflicts when loading with `tf.keras.models.load_model`. If renaming is not possible, pass the object in the `custom_objects` parameter of the load function.\n",
            "WARNING:absl:<keras.layers.recurrent.LSTMCell object at 0x7f49a420ae10> has the same name 'LSTMCell' as a built-in Keras object. Consider renaming <class 'keras.layers.recurrent.LSTMCell'> to avoid naming conflicts when loading with `tf.keras.models.load_model`. If renaming is not possible, pass the object in the `custom_objects` parameter of the load function.\n",
            "WARNING:absl:<keras.layers.recurrent.LSTMCell object at 0x7f49a41d8ed0> has the same name 'LSTMCell' as a built-in Keras object. Consider renaming <class 'keras.layers.recurrent.LSTMCell'> to avoid naming conflicts when loading with `tf.keras.models.load_model`. If renaming is not possible, pass the object in the `custom_objects` parameter of the load function.\n"
          ]
        },
        {
          "output_type": "stream",
          "name": "stdout",
          "text": [
            "1266/1266 [==============================] - 272s 215ms/step - loss: 0.5435 - accuracy: 0.7333 - val_loss: 0.7118 - val_accuracy: 0.6629\n",
            "Epoch 6/50\n",
            "1266/1266 [==============================] - 252s 199ms/step - loss: 0.5019 - accuracy: 0.7619 - val_loss: 0.6746 - val_accuracy: 0.6591\n",
            "Epoch 7/50\n",
            "1266/1266 [==============================] - ETA: 0s - loss: 0.4772 - accuracy: 0.7754"
          ]
        },
        {
          "output_type": "stream",
          "name": "stderr",
          "text": [
            "WARNING:absl:Found untraced functions such as lstm_cell_3_layer_call_fn, lstm_cell_3_layer_call_and_return_conditional_losses, lstm_cell_1_layer_call_fn, lstm_cell_1_layer_call_and_return_conditional_losses, lstm_cell_2_layer_call_fn while saving (showing 5 of 15). These functions will not be directly callable after loading.\n"
          ]
        },
        {
          "output_type": "stream",
          "name": "stdout",
          "text": [
            "INFO:tensorflow:Assets written to: /content/drive/MyDrive/University of Oklahoma/Fall 2021/ECE 5583-980 Information Theory and Probabilistic Programming/Project/Model Checkpoints/LSTM_MODEL_1/assets\n"
          ]
        },
        {
          "output_type": "stream",
          "name": "stderr",
          "text": [
            "INFO:tensorflow:Assets written to: /content/drive/MyDrive/University of Oklahoma/Fall 2021/ECE 5583-980 Information Theory and Probabilistic Programming/Project/Model Checkpoints/LSTM_MODEL_1/assets\n",
            "WARNING:absl:<keras.layers.recurrent.LSTMCell object at 0x7f49a3fd7e10> has the same name 'LSTMCell' as a built-in Keras object. Consider renaming <class 'keras.layers.recurrent.LSTMCell'> to avoid naming conflicts when loading with `tf.keras.models.load_model`. If renaming is not possible, pass the object in the `custom_objects` parameter of the load function.\n",
            "WARNING:absl:<keras.layers.recurrent.LSTMCell object at 0x7f49a420ae10> has the same name 'LSTMCell' as a built-in Keras object. Consider renaming <class 'keras.layers.recurrent.LSTMCell'> to avoid naming conflicts when loading with `tf.keras.models.load_model`. If renaming is not possible, pass the object in the `custom_objects` parameter of the load function.\n",
            "WARNING:absl:<keras.layers.recurrent.LSTMCell object at 0x7f49a41d8ed0> has the same name 'LSTMCell' as a built-in Keras object. Consider renaming <class 'keras.layers.recurrent.LSTMCell'> to avoid naming conflicts when loading with `tf.keras.models.load_model`. If renaming is not possible, pass the object in the `custom_objects` parameter of the load function.\n"
          ]
        },
        {
          "output_type": "stream",
          "name": "stdout",
          "text": [
            "1266/1266 [==============================] - 273s 216ms/step - loss: 0.4772 - accuracy: 0.7754 - val_loss: 0.4784 - val_accuracy: 0.7676\n",
            "Epoch 8/50\n",
            "1266/1266 [==============================] - ETA: 0s - loss: 0.4529 - accuracy: 0.7941"
          ]
        },
        {
          "output_type": "stream",
          "name": "stderr",
          "text": [
            "WARNING:absl:Found untraced functions such as lstm_cell_3_layer_call_fn, lstm_cell_3_layer_call_and_return_conditional_losses, lstm_cell_1_layer_call_fn, lstm_cell_1_layer_call_and_return_conditional_losses, lstm_cell_2_layer_call_fn while saving (showing 5 of 15). These functions will not be directly callable after loading.\n"
          ]
        },
        {
          "output_type": "stream",
          "name": "stdout",
          "text": [
            "INFO:tensorflow:Assets written to: /content/drive/MyDrive/University of Oklahoma/Fall 2021/ECE 5583-980 Information Theory and Probabilistic Programming/Project/Model Checkpoints/LSTM_MODEL_1/assets\n"
          ]
        },
        {
          "output_type": "stream",
          "name": "stderr",
          "text": [
            "INFO:tensorflow:Assets written to: /content/drive/MyDrive/University of Oklahoma/Fall 2021/ECE 5583-980 Information Theory and Probabilistic Programming/Project/Model Checkpoints/LSTM_MODEL_1/assets\n",
            "WARNING:absl:<keras.layers.recurrent.LSTMCell object at 0x7f49a3fd7e10> has the same name 'LSTMCell' as a built-in Keras object. Consider renaming <class 'keras.layers.recurrent.LSTMCell'> to avoid naming conflicts when loading with `tf.keras.models.load_model`. If renaming is not possible, pass the object in the `custom_objects` parameter of the load function.\n",
            "WARNING:absl:<keras.layers.recurrent.LSTMCell object at 0x7f49a420ae10> has the same name 'LSTMCell' as a built-in Keras object. Consider renaming <class 'keras.layers.recurrent.LSTMCell'> to avoid naming conflicts when loading with `tf.keras.models.load_model`. If renaming is not possible, pass the object in the `custom_objects` parameter of the load function.\n",
            "WARNING:absl:<keras.layers.recurrent.LSTMCell object at 0x7f49a41d8ed0> has the same name 'LSTMCell' as a built-in Keras object. Consider renaming <class 'keras.layers.recurrent.LSTMCell'> to avoid naming conflicts when loading with `tf.keras.models.load_model`. If renaming is not possible, pass the object in the `custom_objects` parameter of the load function.\n"
          ]
        },
        {
          "output_type": "stream",
          "name": "stdout",
          "text": [
            "1266/1266 [==============================] - 272s 215ms/step - loss: 0.4529 - accuracy: 0.7941 - val_loss: 0.4697 - val_accuracy: 0.7816\n",
            "Epoch 9/50\n",
            "1266/1266 [==============================] - 252s 199ms/step - loss: 0.4328 - accuracy: 0.8030 - val_loss: 0.5897 - val_accuracy: 0.7273\n",
            "Epoch 10/50\n",
            "1266/1266 [==============================] - 252s 199ms/step - loss: 0.4066 - accuracy: 0.8178 - val_loss: 0.6110 - val_accuracy: 0.7253\n",
            "Epoch 11/50\n",
            "1266/1266 [==============================] - ETA: 0s - loss: 0.3901 - accuracy: 0.8287"
          ]
        },
        {
          "output_type": "stream",
          "name": "stderr",
          "text": [
            "WARNING:absl:Found untraced functions such as lstm_cell_3_layer_call_fn, lstm_cell_3_layer_call_and_return_conditional_losses, lstm_cell_1_layer_call_fn, lstm_cell_1_layer_call_and_return_conditional_losses, lstm_cell_2_layer_call_fn while saving (showing 5 of 15). These functions will not be directly callable after loading.\n"
          ]
        },
        {
          "output_type": "stream",
          "name": "stdout",
          "text": [
            "INFO:tensorflow:Assets written to: /content/drive/MyDrive/University of Oklahoma/Fall 2021/ECE 5583-980 Information Theory and Probabilistic Programming/Project/Model Checkpoints/LSTM_MODEL_1/assets\n"
          ]
        },
        {
          "output_type": "stream",
          "name": "stderr",
          "text": [
            "INFO:tensorflow:Assets written to: /content/drive/MyDrive/University of Oklahoma/Fall 2021/ECE 5583-980 Information Theory and Probabilistic Programming/Project/Model Checkpoints/LSTM_MODEL_1/assets\n",
            "WARNING:absl:<keras.layers.recurrent.LSTMCell object at 0x7f49a3fd7e10> has the same name 'LSTMCell' as a built-in Keras object. Consider renaming <class 'keras.layers.recurrent.LSTMCell'> to avoid naming conflicts when loading with `tf.keras.models.load_model`. If renaming is not possible, pass the object in the `custom_objects` parameter of the load function.\n",
            "WARNING:absl:<keras.layers.recurrent.LSTMCell object at 0x7f49a420ae10> has the same name 'LSTMCell' as a built-in Keras object. Consider renaming <class 'keras.layers.recurrent.LSTMCell'> to avoid naming conflicts when loading with `tf.keras.models.load_model`. If renaming is not possible, pass the object in the `custom_objects` parameter of the load function.\n",
            "WARNING:absl:<keras.layers.recurrent.LSTMCell object at 0x7f49a41d8ed0> has the same name 'LSTMCell' as a built-in Keras object. Consider renaming <class 'keras.layers.recurrent.LSTMCell'> to avoid naming conflicts when loading with `tf.keras.models.load_model`. If renaming is not possible, pass the object in the `custom_objects` parameter of the load function.\n"
          ]
        },
        {
          "output_type": "stream",
          "name": "stdout",
          "text": [
            "1266/1266 [==============================] - 273s 215ms/step - loss: 0.3901 - accuracy: 0.8287 - val_loss: 0.4502 - val_accuracy: 0.7964\n",
            "Epoch 12/50\n",
            "1266/1266 [==============================] - 251s 199ms/step - loss: 0.3678 - accuracy: 0.8417 - val_loss: 0.6763 - val_accuracy: 0.7253\n",
            "Epoch 13/50\n",
            "1266/1266 [==============================] - ETA: 0s - loss: 0.3580 - accuracy: 0.8471"
          ]
        },
        {
          "output_type": "stream",
          "name": "stderr",
          "text": [
            "WARNING:absl:Found untraced functions such as lstm_cell_3_layer_call_fn, lstm_cell_3_layer_call_and_return_conditional_losses, lstm_cell_1_layer_call_fn, lstm_cell_1_layer_call_and_return_conditional_losses, lstm_cell_2_layer_call_fn while saving (showing 5 of 15). These functions will not be directly callable after loading.\n"
          ]
        },
        {
          "output_type": "stream",
          "name": "stdout",
          "text": [
            "INFO:tensorflow:Assets written to: /content/drive/MyDrive/University of Oklahoma/Fall 2021/ECE 5583-980 Information Theory and Probabilistic Programming/Project/Model Checkpoints/LSTM_MODEL_1/assets\n"
          ]
        },
        {
          "output_type": "stream",
          "name": "stderr",
          "text": [
            "INFO:tensorflow:Assets written to: /content/drive/MyDrive/University of Oklahoma/Fall 2021/ECE 5583-980 Information Theory and Probabilistic Programming/Project/Model Checkpoints/LSTM_MODEL_1/assets\n",
            "WARNING:absl:<keras.layers.recurrent.LSTMCell object at 0x7f49a3fd7e10> has the same name 'LSTMCell' as a built-in Keras object. Consider renaming <class 'keras.layers.recurrent.LSTMCell'> to avoid naming conflicts when loading with `tf.keras.models.load_model`. If renaming is not possible, pass the object in the `custom_objects` parameter of the load function.\n",
            "WARNING:absl:<keras.layers.recurrent.LSTMCell object at 0x7f49a420ae10> has the same name 'LSTMCell' as a built-in Keras object. Consider renaming <class 'keras.layers.recurrent.LSTMCell'> to avoid naming conflicts when loading with `tf.keras.models.load_model`. If renaming is not possible, pass the object in the `custom_objects` parameter of the load function.\n",
            "WARNING:absl:<keras.layers.recurrent.LSTMCell object at 0x7f49a41d8ed0> has the same name 'LSTMCell' as a built-in Keras object. Consider renaming <class 'keras.layers.recurrent.LSTMCell'> to avoid naming conflicts when loading with `tf.keras.models.load_model`. If renaming is not possible, pass the object in the `custom_objects` parameter of the load function.\n"
          ]
        },
        {
          "output_type": "stream",
          "name": "stdout",
          "text": [
            "1266/1266 [==============================] - 273s 216ms/step - loss: 0.3580 - accuracy: 0.8471 - val_loss: 0.4395 - val_accuracy: 0.7989\n",
            "Epoch 14/50\n",
            "1266/1266 [==============================] - 251s 198ms/step - loss: 0.3425 - accuracy: 0.8535 - val_loss: 0.5990 - val_accuracy: 0.7393\n",
            "Epoch 15/50\n",
            "1266/1266 [==============================] - 252s 199ms/step - loss: 0.3238 - accuracy: 0.8607 - val_loss: 0.7763 - val_accuracy: 0.6380\n",
            "Epoch 16/50\n",
            "1266/1266 [==============================] - 250s 198ms/step - loss: 0.3094 - accuracy: 0.8720 - val_loss: 0.8113 - val_accuracy: 0.6956\n",
            "Epoch 17/50\n",
            "1266/1266 [==============================] - ETA: 0s - loss: 0.3013 - accuracy: 0.8763"
          ]
        },
        {
          "output_type": "stream",
          "name": "stderr",
          "text": [
            "WARNING:absl:Found untraced functions such as lstm_cell_3_layer_call_fn, lstm_cell_3_layer_call_and_return_conditional_losses, lstm_cell_1_layer_call_fn, lstm_cell_1_layer_call_and_return_conditional_losses, lstm_cell_2_layer_call_fn while saving (showing 5 of 15). These functions will not be directly callable after loading.\n"
          ]
        },
        {
          "output_type": "stream",
          "name": "stdout",
          "text": [
            "INFO:tensorflow:Assets written to: /content/drive/MyDrive/University of Oklahoma/Fall 2021/ECE 5583-980 Information Theory and Probabilistic Programming/Project/Model Checkpoints/LSTM_MODEL_1/assets\n"
          ]
        },
        {
          "output_type": "stream",
          "name": "stderr",
          "text": [
            "INFO:tensorflow:Assets written to: /content/drive/MyDrive/University of Oklahoma/Fall 2021/ECE 5583-980 Information Theory and Probabilistic Programming/Project/Model Checkpoints/LSTM_MODEL_1/assets\n",
            "WARNING:absl:<keras.layers.recurrent.LSTMCell object at 0x7f49a3fd7e10> has the same name 'LSTMCell' as a built-in Keras object. Consider renaming <class 'keras.layers.recurrent.LSTMCell'> to avoid naming conflicts when loading with `tf.keras.models.load_model`. If renaming is not possible, pass the object in the `custom_objects` parameter of the load function.\n",
            "WARNING:absl:<keras.layers.recurrent.LSTMCell object at 0x7f49a420ae10> has the same name 'LSTMCell' as a built-in Keras object. Consider renaming <class 'keras.layers.recurrent.LSTMCell'> to avoid naming conflicts when loading with `tf.keras.models.load_model`. If renaming is not possible, pass the object in the `custom_objects` parameter of the load function.\n",
            "WARNING:absl:<keras.layers.recurrent.LSTMCell object at 0x7f49a41d8ed0> has the same name 'LSTMCell' as a built-in Keras object. Consider renaming <class 'keras.layers.recurrent.LSTMCell'> to avoid naming conflicts when loading with `tf.keras.models.load_model`. If renaming is not possible, pass the object in the `custom_objects` parameter of the load function.\n"
          ]
        },
        {
          "output_type": "stream",
          "name": "stdout",
          "text": [
            "1266/1266 [==============================] - 271s 214ms/step - loss: 0.3013 - accuracy: 0.8763 - val_loss: 0.4434 - val_accuracy: 0.8167\n",
            "Epoch 18/50\n",
            "1266/1266 [==============================] - 252s 199ms/step - loss: 0.2902 - accuracy: 0.8792 - val_loss: 0.5113 - val_accuracy: 0.7918\n",
            "Epoch 19/50\n",
            "1266/1266 [==============================] - 251s 199ms/step - loss: 0.2795 - accuracy: 0.8877 - val_loss: 0.6944 - val_accuracy: 0.7364\n",
            "Epoch 20/50\n",
            "1266/1266 [==============================] - 251s 198ms/step - loss: 0.2764 - accuracy: 0.8877 - val_loss: 0.8502 - val_accuracy: 0.6864\n",
            "Epoch 21/50\n",
            "1266/1266 [==============================] - 250s 198ms/step - loss: 0.2676 - accuracy: 0.8919 - val_loss: 0.9948 - val_accuracy: 0.6582\n",
            "Epoch 22/50\n",
            "1266/1266 [==============================] - 251s 198ms/step - loss: 0.2652 - accuracy: 0.8922 - val_loss: 0.4972 - val_accuracy: 0.7976\n",
            "Epoch 23/50\n",
            "1266/1266 [==============================] - 251s 198ms/step - loss: 0.2549 - accuracy: 0.8960 - val_loss: 0.4812 - val_accuracy: 0.8133\n",
            "Epoch 24/50\n",
            "1266/1266 [==============================] - ETA: 0s - loss: 0.2473 - accuracy: 0.9025"
          ]
        },
        {
          "output_type": "stream",
          "name": "stderr",
          "text": [
            "WARNING:absl:Found untraced functions such as lstm_cell_3_layer_call_fn, lstm_cell_3_layer_call_and_return_conditional_losses, lstm_cell_1_layer_call_fn, lstm_cell_1_layer_call_and_return_conditional_losses, lstm_cell_2_layer_call_fn while saving (showing 5 of 15). These functions will not be directly callable after loading.\n"
          ]
        },
        {
          "output_type": "stream",
          "name": "stdout",
          "text": [
            "INFO:tensorflow:Assets written to: /content/drive/MyDrive/University of Oklahoma/Fall 2021/ECE 5583-980 Information Theory and Probabilistic Programming/Project/Model Checkpoints/LSTM_MODEL_1/assets\n"
          ]
        },
        {
          "output_type": "stream",
          "name": "stderr",
          "text": [
            "INFO:tensorflow:Assets written to: /content/drive/MyDrive/University of Oklahoma/Fall 2021/ECE 5583-980 Information Theory and Probabilistic Programming/Project/Model Checkpoints/LSTM_MODEL_1/assets\n",
            "WARNING:absl:<keras.layers.recurrent.LSTMCell object at 0x7f49a3fd7e10> has the same name 'LSTMCell' as a built-in Keras object. Consider renaming <class 'keras.layers.recurrent.LSTMCell'> to avoid naming conflicts when loading with `tf.keras.models.load_model`. If renaming is not possible, pass the object in the `custom_objects` parameter of the load function.\n",
            "WARNING:absl:<keras.layers.recurrent.LSTMCell object at 0x7f49a420ae10> has the same name 'LSTMCell' as a built-in Keras object. Consider renaming <class 'keras.layers.recurrent.LSTMCell'> to avoid naming conflicts when loading with `tf.keras.models.load_model`. If renaming is not possible, pass the object in the `custom_objects` parameter of the load function.\n",
            "WARNING:absl:<keras.layers.recurrent.LSTMCell object at 0x7f49a41d8ed0> has the same name 'LSTMCell' as a built-in Keras object. Consider renaming <class 'keras.layers.recurrent.LSTMCell'> to avoid naming conflicts when loading with `tf.keras.models.load_model`. If renaming is not possible, pass the object in the `custom_objects` parameter of the load function.\n"
          ]
        },
        {
          "output_type": "stream",
          "name": "stdout",
          "text": [
            "1266/1266 [==============================] - 273s 215ms/step - loss: 0.2473 - accuracy: 0.9025 - val_loss: 0.4820 - val_accuracy: 0.8224\n",
            "Epoch 25/50\n",
            "1266/1266 [==============================] - 251s 198ms/step - loss: 0.2446 - accuracy: 0.9021 - val_loss: 0.5151 - val_accuracy: 0.7876\n",
            "Epoch 26/50\n",
            "1266/1266 [==============================] - 251s 198ms/step - loss: 0.2343 - accuracy: 0.9070 - val_loss: 0.5302 - val_accuracy: 0.8080\n",
            "Epoch 27/50\n",
            "1266/1266 [==============================] - 251s 199ms/step - loss: 0.2293 - accuracy: 0.9077 - val_loss: 0.4964 - val_accuracy: 0.8171\n",
            "Epoch 28/50\n",
            "1266/1266 [==============================] - 251s 198ms/step - loss: 0.2236 - accuracy: 0.9126 - val_loss: 0.4981 - val_accuracy: 0.8216\n",
            "Epoch 29/50\n",
            "1266/1266 [==============================] - 251s 198ms/step - loss: 0.2175 - accuracy: 0.9147 - val_loss: 0.4924 - val_accuracy: 0.8033\n",
            "Epoch 30/50\n",
            "1266/1266 [==============================] - 251s 198ms/step - loss: 0.2213 - accuracy: 0.9124 - val_loss: 0.8997 - val_accuracy: 0.7129\n",
            "Epoch 31/50\n",
            "1266/1266 [==============================] - 250s 198ms/step - loss: 0.2156 - accuracy: 0.9149 - val_loss: 1.2153 - val_accuracy: 0.6576\n",
            "Epoch 32/50\n",
            "1266/1266 [==============================] - 250s 198ms/step - loss: 0.2086 - accuracy: 0.9173 - val_loss: 0.4709 - val_accuracy: 0.8213\n",
            "Epoch 33/50\n",
            "1266/1266 [==============================] - 250s 197ms/step - loss: 0.2074 - accuracy: 0.9189 - val_loss: 0.5155 - val_accuracy: 0.8182\n",
            "Epoch 34/50\n",
            "1266/1266 [==============================] - 250s 198ms/step - loss: 0.2000 - accuracy: 0.9214 - val_loss: 0.6274 - val_accuracy: 0.7904\n",
            "Epoch 35/50\n",
            "1266/1266 [==============================] - 250s 198ms/step - loss: 0.1961 - accuracy: 0.9228 - val_loss: 0.5666 - val_accuracy: 0.8107\n",
            "Epoch 36/50\n",
            "1266/1266 [==============================] - ETA: 0s - loss: 0.1874 - accuracy: 0.9267"
          ]
        },
        {
          "output_type": "stream",
          "name": "stderr",
          "text": [
            "WARNING:absl:Found untraced functions such as lstm_cell_3_layer_call_fn, lstm_cell_3_layer_call_and_return_conditional_losses, lstm_cell_1_layer_call_fn, lstm_cell_1_layer_call_and_return_conditional_losses, lstm_cell_2_layer_call_fn while saving (showing 5 of 15). These functions will not be directly callable after loading.\n"
          ]
        },
        {
          "output_type": "stream",
          "name": "stdout",
          "text": [
            "INFO:tensorflow:Assets written to: /content/drive/MyDrive/University of Oklahoma/Fall 2021/ECE 5583-980 Information Theory and Probabilistic Programming/Project/Model Checkpoints/LSTM_MODEL_1/assets\n"
          ]
        },
        {
          "output_type": "stream",
          "name": "stderr",
          "text": [
            "INFO:tensorflow:Assets written to: /content/drive/MyDrive/University of Oklahoma/Fall 2021/ECE 5583-980 Information Theory and Probabilistic Programming/Project/Model Checkpoints/LSTM_MODEL_1/assets\n",
            "WARNING:absl:<keras.layers.recurrent.LSTMCell object at 0x7f49a3fd7e10> has the same name 'LSTMCell' as a built-in Keras object. Consider renaming <class 'keras.layers.recurrent.LSTMCell'> to avoid naming conflicts when loading with `tf.keras.models.load_model`. If renaming is not possible, pass the object in the `custom_objects` parameter of the load function.\n",
            "WARNING:absl:<keras.layers.recurrent.LSTMCell object at 0x7f49a420ae10> has the same name 'LSTMCell' as a built-in Keras object. Consider renaming <class 'keras.layers.recurrent.LSTMCell'> to avoid naming conflicts when loading with `tf.keras.models.load_model`. If renaming is not possible, pass the object in the `custom_objects` parameter of the load function.\n",
            "WARNING:absl:<keras.layers.recurrent.LSTMCell object at 0x7f49a41d8ed0> has the same name 'LSTMCell' as a built-in Keras object. Consider renaming <class 'keras.layers.recurrent.LSTMCell'> to avoid naming conflicts when loading with `tf.keras.models.load_model`. If renaming is not possible, pass the object in the `custom_objects` parameter of the load function.\n"
          ]
        },
        {
          "output_type": "stream",
          "name": "stdout",
          "text": [
            "1266/1266 [==============================] - 271s 214ms/step - loss: 0.1874 - accuracy: 0.9267 - val_loss: 0.4881 - val_accuracy: 0.8284\n",
            "Epoch 37/50\n",
            "1266/1266 [==============================] - 250s 197ms/step - loss: 0.1892 - accuracy: 0.9267 - val_loss: 0.6092 - val_accuracy: 0.8067\n",
            "Epoch 38/50\n",
            "1266/1266 [==============================] - 250s 198ms/step - loss: 0.1829 - accuracy: 0.9285 - val_loss: 0.5033 - val_accuracy: 0.8144\n",
            "Epoch 39/50\n",
            "1266/1266 [==============================] - 250s 198ms/step - loss: 0.1798 - accuracy: 0.9301 - val_loss: 0.5237 - val_accuracy: 0.8136\n",
            "Epoch 40/50\n",
            "1266/1266 [==============================] - 250s 198ms/step - loss: 0.1729 - accuracy: 0.9335 - val_loss: 0.5185 - val_accuracy: 0.8093\n",
            "Epoch 41/50\n",
            "1266/1266 [==============================] - 250s 198ms/step - loss: 0.1807 - accuracy: 0.9302 - val_loss: 0.4682 - val_accuracy: 0.8144\n",
            "Epoch 42/50\n",
            "1266/1266 [==============================] - 250s 198ms/step - loss: 0.1735 - accuracy: 0.9341 - val_loss: 0.6314 - val_accuracy: 0.8042\n",
            "Epoch 43/50\n",
            "1266/1266 [==============================] - 250s 197ms/step - loss: 0.1768 - accuracy: 0.9313 - val_loss: 0.6975 - val_accuracy: 0.7873\n",
            "Epoch 44/50\n",
            "1266/1266 [==============================] - 250s 197ms/step - loss: 0.1721 - accuracy: 0.9329 - val_loss: 0.5569 - val_accuracy: 0.7991\n",
            "Epoch 45/50\n",
            "1266/1266 [==============================] - 250s 197ms/step - loss: 0.1688 - accuracy: 0.9336 - val_loss: 0.8324 - val_accuracy: 0.7196\n",
            "Epoch 46/50\n",
            "1266/1266 [==============================] - 250s 197ms/step - loss: 0.1710 - accuracy: 0.9340 - val_loss: 0.5851 - val_accuracy: 0.8111\n",
            "Epoch 47/50\n",
            "1266/1266 [==============================] - 251s 198ms/step - loss: 0.1672 - accuracy: 0.9375 - val_loss: 0.5364 - val_accuracy: 0.8089\n",
            "Epoch 48/50\n",
            "1266/1266 [==============================] - 251s 198ms/step - loss: 0.1629 - accuracy: 0.9370 - val_loss: 0.5196 - val_accuracy: 0.8191\n",
            "Epoch 49/50\n",
            "1266/1266 [==============================] - 252s 199ms/step - loss: 0.1570 - accuracy: 0.9405 - val_loss: 0.4742 - val_accuracy: 0.8162\n",
            "Epoch 50/50\n",
            "1266/1266 [==============================] - 251s 198ms/step - loss: 0.1546 - accuracy: 0.9413 - val_loss: 0.5710 - val_accuracy: 0.8202\n"
          ]
        },
        {
          "output_type": "execute_result",
          "data": {
            "text/plain": [
              "<keras.callbacks.History at 0x7f49a40526d0>"
            ]
          },
          "metadata": {},
          "execution_count": 34
        }
      ]
    },
    {
      "cell_type": "code",
      "source": [
        "history = model.history.history\n",
        "\n",
        "train_loss = history['loss']\n",
        "val_loss = history['val_loss']\n",
        "train_acc = history['accuracy']\n",
        "val_acc = history['val_accuracy']\n",
        "\n",
        "# Loss\n",
        "plt.figure()\n",
        "plt.plot(train_loss, label='Training Loss')\n",
        "plt.plot(val_loss, label='Validation Loss')\n",
        "plt.title('Loss')\n",
        "plt.legend()\n",
        "plt.show()\n",
        "\n",
        "# Accuracy\n",
        "plt.figure()\n",
        "plt.plot(train_acc, label='Training Accuracy')\n",
        "plt.plot(val_acc, label='Validation Accuracy')\n",
        "plt.title('Accuracy')\n",
        "plt.legend()\n",
        "plt.show()"
      ],
      "metadata": {
        "colab": {
          "base_uri": "https://localhost:8080/",
          "height": 545
        },
        "id": "Pk1HfHC0SdSt",
        "outputId": "31a44b2a-6c0a-45db-dbb3-7e999c73315d"
      },
      "execution_count": null,
      "outputs": [
        {
          "output_type": "display_data",
          "data": {
            "image/png": "[encoded data removed]",
            "text/plain": [
              "<Figure size 432x288 with 1 Axes>"
            ]
          },
          "metadata": {
            "needs_background": "light"
          }
        },
        {
          "output_type": "display_data",
          "data": {
            "image/png": "[encoded data removed]",
            "text/plain": [
              "<Figure size 432x288 with 1 Axes>"
            ]
          },
          "metadata": {
            "needs_background": "light"
          }
        }
      ]
    },
    {
      "cell_type": "markdown",
      "source": [
        "Test accuracy:"
      ],
      "metadata": {
        "id": "DSXeJq21I2X5"
      }
    },
    {
      "cell_type": "code",
      "source": [
        "preds = model.predict(X_test)"
      ],
      "metadata": {
        "id": "uw179jtlSdVg"
      },
      "execution_count": null,
      "outputs": []
    },
    {
      "cell_type": "code",
      "source": [
        "from sklearn.metrics import accuracy_score"
      ],
      "metadata": {
        "id": "QvTpY-_8EDdY"
      },
      "execution_count": null,
      "outputs": []
    },
    {
      "cell_type": "code",
      "source": [
        "preds = [1 if x > 0.5 else 0 for x in preds]\n",
        "accuracy_score(preds, Y_test.reshape((Y_test.shape[0], 1)))"
      ],
      "metadata": {
        "colab": {
          "base_uri": "https://localhost:8080/"
        },
        "id": "68mhNJZ0SdYR",
        "outputId": "adaa5d12-c38c-46b7-894a-be527e198fbc"
      },
      "execution_count": null,
      "outputs": [
        {
          "output_type": "execute_result",
          "data": {
            "text/plain": [
              "0.8204"
            ]
          },
          "metadata": {},
          "execution_count": 50
        }
      ]
    },
    {
      "cell_type": "markdown",
      "source": [
        "# GRU"
      ],
      "metadata": {
        "id": "_hPphV8tFq0z"
      }
    },
    {
      "cell_type": "code",
      "source": [
        "\n",
        "gru_model = tf.keras.Sequential()\n",
        "\n",
        "gru_model.add(\n",
        "  tf.keras.layers.Embedding(\n",
        "    input_dim= vocab_size, #len(text_tokenizer.word_index)+1,#vocab_size, \n",
        "    output_dim=embedding_dim, \n",
        "    input_length=X.shape[1],\n",
        "    trainable=False,\n",
        "    weights= [emb] #[embedding_matrix]\n",
        "  )\n",
        ")\n",
        "\n",
        "gru_model.add(tf.keras.layers.Conv1D(units, 10, activation='relu'))\n",
        "\n",
        "gru_model.add(tf.keras.layers.BatchNormalization())\n",
        "\n",
        "gru_model.add(tf.keras.layers.Dropout(0.5))\n",
        "\n",
        "gru_model.add(\n",
        "  tf.keras.layers.Bidirectional(\n",
        "  tf.keras.layers.GRU(units, return_sequences=True),\n",
        "  input_shape=(X.shape[1], embedding_dim)\n",
        "  )\n",
        ")\n",
        "\n",
        "gru_model.add(tf.keras.layers.BatchNormalization())\n",
        "\n",
        "gru_model.add(tf.keras.layers.Dropout(0.5))\n",
        "\n",
        "gru_model.add(tf.keras.layers.GRU(64))\n",
        "\n",
        "gru_model.add(tf.keras.layers.BatchNormalization())\n",
        "\n",
        "gru_model.add(tf.keras.layers.Dropout(0.5))\n",
        "\n",
        "gru_model.add(\n",
        "  # tf.keras.layers.TimeDistributed(\n",
        "      tf.keras.layers.Dense(1, activation='sigmoid')\n",
        "  # )\n",
        ")\n",
        "\n",
        "gru_model.summary()"
      ],
      "metadata": {
        "colab": {
          "base_uri": "https://localhost:8080/"
        },
        "outputId": "bb497c88-d128-411d-9d32-1de02ae3b170",
        "id": "Xq9aKc09UAjH"
      },
      "execution_count": null,
      "outputs": [
        {
          "output_type": "stream",
          "name": "stdout",
          "text": [
            "Model: \"sequential_3\"\n",
            "_________________________________________________________________\n",
            " Layer (type)                Output Shape              Param #   \n",
            "=================================================================\n",
            " embedding_3 (Embedding)     (None, 235, 300)          9000300   \n",
            "                                                                 \n",
            " conv1d_3 (Conv1D)           (None, 226, 128)          384128    \n",
            "                                                                 \n",
            " batch_normalization_9 (Batc  (None, 226, 128)         512       \n",
            " hNormalization)                                                 \n",
            "                                                                 \n",
            " dropout_9 (Dropout)         (None, 226, 128)          0         \n",
            "                                                                 \n",
            " bidirectional_3 (Bidirectio  (None, 226, 256)         198144    \n",
            " nal)                                                            \n",
            "                                                                 \n",
            " batch_normalization_10 (Bat  (None, 226, 256)         1024      \n",
            " chNormalization)                                                \n",
            "                                                                 \n",
            " dropout_10 (Dropout)        (None, 226, 256)          0         \n",
            "                                                                 \n",
            " gru_4 (GRU)                 (None, 64)                61824     \n",
            "                                                                 \n",
            " batch_normalization_11 (Bat  (None, 64)               256       \n",
            " chNormalization)                                                \n",
            "                                                                 \n",
            " dropout_11 (Dropout)        (None, 64)                0         \n",
            "                                                                 \n",
            " dense_3 (Dense)             (None, 1)                 65        \n",
            "                                                                 \n",
            "=================================================================\n",
            "Total params: 9,646,253\n",
            "Trainable params: 645,057\n",
            "Non-trainable params: 9,001,196\n",
            "_________________________________________________________________\n"
          ]
        }
      ]
    },
    {
      "cell_type": "code",
      "source": [
        "gru_model.compile(loss='binary_crossentropy', optimizer='adam', metrics=['accuracy'])"
      ],
      "metadata": {
        "id": "h-OqDNRZUAjI"
      },
      "execution_count": null,
      "outputs": []
    },
    {
      "cell_type": "code",
      "source": [
        "checkpoints.filepath =  \"/content/drive/MyDrive/University of Oklahoma/Fall 2021/ECE 5583-980 Information Theory and Probabilistic Programming/Project/Model Checkpoints/GRU_MODEL_1\""
      ],
      "metadata": {
        "id": "HU7e-EdnUAjJ"
      },
      "execution_count": null,
      "outputs": []
    },
    {
      "cell_type": "code",
      "source": [
        "gru_model.fit(X_train, Y_train, epochs=50, validation_data=(X_val, Y_val), callbacks=[checkpoints])"
      ],
      "metadata": {
        "colab": {
          "base_uri": "https://localhost:8080/"
        },
        "outputId": "44e2091e-e443-405a-df0b-4e31f5ec838f",
        "id": "_EiDAmO1UAjJ"
      },
      "execution_count": null,
      "outputs": [
        {
          "metadata": {
            "tags": null
          },
          "name": "stdout",
          "output_type": "stream",
          "text": [
            "Epoch 1/50\n",
            "1266/1266 [==============================] - ETA: 0s - loss: 0.7417 - accuracy: 0.5310"
          ]
        },
        {
          "metadata": {
            "tags": null
          },
          "name": "stderr",
          "output_type": "stream",
          "text": [
            "WARNING:absl:Found untraced functions such as gru_cell_12_layer_call_fn, gru_cell_12_layer_call_and_return_conditional_losses, gru_cell_10_layer_call_fn, gru_cell_10_layer_call_and_return_conditional_losses, gru_cell_11_layer_call_fn while saving (showing 5 of 15). These functions will not be directly callable after loading.\n"
          ]
        },
        {
          "metadata": {
            "tags": null
          },
          "name": "stdout",
          "output_type": "stream",
          "text": [
            "INFO:tensorflow:Assets written to: /content/drive/MyDrive/University of Oklahoma/Fall 2021/ECE 5583-980 Information Theory and Probabilistic Programming/Project/Model Checkpoints/assets\n"
          ]
        },
        {
          "metadata": {
            "tags": null
          },
          "name": "stderr",
          "output_type": "stream",
          "text": [
            "INFO:tensorflow:Assets written to: /content/drive/MyDrive/University of Oklahoma/Fall 2021/ECE 5583-980 Information Theory and Probabilistic Programming/Project/Model Checkpoints/assets\n",
            "WARNING:absl:<keras.layers.recurrent.GRUCell object at 0x7fcb44e06c10> has the same name 'GRUCell' as a built-in Keras object. Consider renaming <class 'keras.layers.recurrent.GRUCell'> to avoid naming conflicts when loading with `tf.keras.models.load_model`. If renaming is not possible, pass the object in the `custom_objects` parameter of the load function.\n",
            "WARNING:absl:<keras.layers.recurrent.GRUCell object at 0x7fcb44f85d50> has the same name 'GRUCell' as a built-in Keras object. Consider renaming <class 'keras.layers.recurrent.GRUCell'> to avoid naming conflicts when loading with `tf.keras.models.load_model`. If renaming is not possible, pass the object in the `custom_objects` parameter of the load function.\n",
            "WARNING:absl:<keras.layers.recurrent.GRUCell object at 0x7fcb44f8c710> has the same name 'GRUCell' as a built-in Keras object. Consider renaming <class 'keras.layers.recurrent.GRUCell'> to avoid naming conflicts when loading with `tf.keras.models.load_model`. If renaming is not possible, pass the object in the `custom_objects` parameter of the load function.\n"
          ]
        },
        {
          "metadata": {
            "tags": null
          },
          "name": "stdout",
          "output_type": "stream",
          "text": [
            "1266/1266 [==============================] - 225s 165ms/step - loss: 0.7417 - accuracy: 0.5310 - val_loss: 0.6350 - val_accuracy: 0.6449\n",
            "Epoch 2/50\n",
            "1266/1266 [==============================] - ETA: 0s - loss: 0.5937 - accuracy: 0.6919"
          ]
        },
        {
          "metadata": {
            "tags": null
          },
          "name": "stderr",
          "output_type": "stream",
          "text": [
            "WARNING:absl:Found untraced functions such as gru_cell_12_layer_call_fn, gru_cell_12_layer_call_and_return_conditional_losses, gru_cell_10_layer_call_fn, gru_cell_10_layer_call_and_return_conditional_losses, gru_cell_11_layer_call_fn while saving (showing 5 of 15). These functions will not be directly callable after loading.\n"
          ]
        },
        {
          "metadata": {
            "tags": null
          },
          "name": "stdout",
          "output_type": "stream",
          "text": [
            "INFO:tensorflow:Assets written to: /content/drive/MyDrive/University of Oklahoma/Fall 2021/ECE 5583-980 Information Theory and Probabilistic Programming/Project/Model Checkpoints/assets\n"
          ]
        },
        {
          "metadata": {
            "tags": null
          },
          "name": "stderr",
          "output_type": "stream",
          "text": [
            "INFO:tensorflow:Assets written to: /content/drive/MyDrive/University of Oklahoma/Fall 2021/ECE 5583-980 Information Theory and Probabilistic Programming/Project/Model Checkpoints/assets\n",
            "WARNING:absl:<keras.layers.recurrent.GRUCell object at 0x7fcb44e06c10> has the same name 'GRUCell' as a built-in Keras object. Consider renaming <class 'keras.layers.recurrent.GRUCell'> to avoid naming conflicts when loading with `tf.keras.models.load_model`. If renaming is not possible, pass the object in the `custom_objects` parameter of the load function.\n",
            "WARNING:absl:<keras.layers.recurrent.GRUCell object at 0x7fcb44f85d50> has the same name 'GRUCell' as a built-in Keras object. Consider renaming <class 'keras.layers.recurrent.GRUCell'> to avoid naming conflicts when loading with `tf.keras.models.load_model`. If renaming is not possible, pass the object in the `custom_objects` parameter of the load function.\n",
            "WARNING:absl:<keras.layers.recurrent.GRUCell object at 0x7fcb44f8c710> has the same name 'GRUCell' as a built-in Keras object. Consider renaming <class 'keras.layers.recurrent.GRUCell'> to avoid naming conflicts when loading with `tf.keras.models.load_model`. If renaming is not possible, pass the object in the `custom_objects` parameter of the load function.\n"
          ]
        },
        {
          "metadata": {
            "tags": null
          },
          "name": "stdout",
          "output_type": "stream",
          "text": [
            "1266/1266 [==============================] - 211s 167ms/step - loss: 0.5937 - accuracy: 0.6919 - val_loss: 0.5936 - val_accuracy: 0.6964\n",
            "Epoch 3/50\n",
            "1266/1266 [==============================] - 201s 159ms/step - loss: 0.5287 - accuracy: 0.7384 - val_loss: 0.8645 - val_accuracy: 0.5716\n",
            "Epoch 4/50\n",
            "1266/1266 [==============================] - ETA: 0s - loss: 0.4806 - accuracy: 0.7740"
          ]
        },
        {
          "metadata": {
            "tags": null
          },
          "name": "stderr",
          "output_type": "stream",
          "text": [
            "WARNING:absl:Found untraced functions such as gru_cell_12_layer_call_fn, gru_cell_12_layer_call_and_return_conditional_losses, gru_cell_10_layer_call_fn, gru_cell_10_layer_call_and_return_conditional_losses, gru_cell_11_layer_call_fn while saving (showing 5 of 15). These functions will not be directly callable after loading.\n"
          ]
        },
        {
          "metadata": {
            "tags": null
          },
          "name": "stdout",
          "output_type": "stream",
          "text": [
            "INFO:tensorflow:Assets written to: /content/drive/MyDrive/University of Oklahoma/Fall 2021/ECE 5583-980 Information Theory and Probabilistic Programming/Project/Model Checkpoints/assets\n"
          ]
        },
        {
          "metadata": {
            "tags": null
          },
          "name": "stderr",
          "output_type": "stream",
          "text": [
            "INFO:tensorflow:Assets written to: /content/drive/MyDrive/University of Oklahoma/Fall 2021/ECE 5583-980 Information Theory and Probabilistic Programming/Project/Model Checkpoints/assets\n",
            "WARNING:absl:<keras.layers.recurrent.GRUCell object at 0x7fcb44e06c10> has the same name 'GRUCell' as a built-in Keras object. Consider renaming <class 'keras.layers.recurrent.GRUCell'> to avoid naming conflicts when loading with `tf.keras.models.load_model`. If renaming is not possible, pass the object in the `custom_objects` parameter of the load function.\n",
            "WARNING:absl:<keras.layers.recurrent.GRUCell object at 0x7fcb44f85d50> has the same name 'GRUCell' as a built-in Keras object. Consider renaming <class 'keras.layers.recurrent.GRUCell'> to avoid naming conflicts when loading with `tf.keras.models.load_model`. If renaming is not possible, pass the object in the `custom_objects` parameter of the load function.\n",
            "WARNING:absl:<keras.layers.recurrent.GRUCell object at 0x7fcb44f8c710> has the same name 'GRUCell' as a built-in Keras object. Consider renaming <class 'keras.layers.recurrent.GRUCell'> to avoid naming conflicts when loading with `tf.keras.models.load_model`. If renaming is not possible, pass the object in the `custom_objects` parameter of the load function.\n"
          ]
        },
        {
          "metadata": {
            "tags": null
          },
          "name": "stdout",
          "output_type": "stream",
          "text": [
            "1266/1266 [==============================] - 192s 152ms/step - loss: 0.4806 - accuracy: 0.7740 - val_loss: 0.5551 - val_accuracy: 0.7200\n",
            "Epoch 5/50\n",
            "1266/1266 [==============================] - 195s 154ms/step - loss: 0.4416 - accuracy: 0.7950 - val_loss: 0.6361 - val_accuracy: 0.7053\n",
            "Epoch 6/50\n",
            "1266/1266 [==============================] - ETA: 0s - loss: 0.4112 - accuracy: 0.8162"
          ]
        },
        {
          "metadata": {
            "tags": null
          },
          "name": "stderr",
          "output_type": "stream",
          "text": [
            "WARNING:absl:Found untraced functions such as gru_cell_12_layer_call_fn, gru_cell_12_layer_call_and_return_conditional_losses, gru_cell_10_layer_call_fn, gru_cell_10_layer_call_and_return_conditional_losses, gru_cell_11_layer_call_fn while saving (showing 5 of 15). These functions will not be directly callable after loading.\n"
          ]
        },
        {
          "metadata": {
            "tags": null
          },
          "name": "stdout",
          "output_type": "stream",
          "text": [
            "INFO:tensorflow:Assets written to: /content/drive/MyDrive/University of Oklahoma/Fall 2021/ECE 5583-980 Information Theory and Probabilistic Programming/Project/Model Checkpoints/assets\n"
          ]
        },
        {
          "metadata": {
            "tags": null
          },
          "name": "stderr",
          "output_type": "stream",
          "text": [
            "INFO:tensorflow:Assets written to: /content/drive/MyDrive/University of Oklahoma/Fall 2021/ECE 5583-980 Information Theory and Probabilistic Programming/Project/Model Checkpoints/assets\n",
            "WARNING:absl:<keras.layers.recurrent.GRUCell object at 0x7fcb44e06c10> has the same name 'GRUCell' as a built-in Keras object. Consider renaming <class 'keras.layers.recurrent.GRUCell'> to avoid naming conflicts when loading with `tf.keras.models.load_model`. If renaming is not possible, pass the object in the `custom_objects` parameter of the load function.\n",
            "WARNING:absl:<keras.layers.recurrent.GRUCell object at 0x7fcb44f85d50> has the same name 'GRUCell' as a built-in Keras object. Consider renaming <class 'keras.layers.recurrent.GRUCell'> to avoid naming conflicts when loading with `tf.keras.models.load_model`. If renaming is not possible, pass the object in the `custom_objects` parameter of the load function.\n",
            "WARNING:absl:<keras.layers.recurrent.GRUCell object at 0x7fcb44f8c710> has the same name 'GRUCell' as a built-in Keras object. Consider renaming <class 'keras.layers.recurrent.GRUCell'> to avoid naming conflicts when loading with `tf.keras.models.load_model`. If renaming is not possible, pass the object in the `custom_objects` parameter of the load function.\n"
          ]
        },
        {
          "metadata": {
            "tags": null
          },
          "name": "stdout",
          "output_type": "stream",
          "text": [
            "1266/1266 [==============================] - 190s 150ms/step - loss: 0.4112 - accuracy: 0.8162 - val_loss: 0.4390 - val_accuracy: 0.8004\n",
            "Epoch 7/50\n",
            "1266/1266 [==============================] - 189s 149ms/step - loss: 0.3837 - accuracy: 0.8296 - val_loss: 0.6904 - val_accuracy: 0.7062\n",
            "Epoch 8/50\n",
            "1266/1266 [==============================] - ETA: 0s - loss: 0.3628 - accuracy: 0.8418"
          ]
        },
        {
          "metadata": {
            "tags": null
          },
          "name": "stderr",
          "output_type": "stream",
          "text": [
            "WARNING:absl:Found untraced functions such as gru_cell_12_layer_call_fn, gru_cell_12_layer_call_and_return_conditional_losses, gru_cell_10_layer_call_fn, gru_cell_10_layer_call_and_return_conditional_losses, gru_cell_11_layer_call_fn while saving (showing 5 of 15). These functions will not be directly callable after loading.\n"
          ]
        },
        {
          "metadata": {
            "tags": null
          },
          "name": "stdout",
          "output_type": "stream",
          "text": [
            "INFO:tensorflow:Assets written to: /content/drive/MyDrive/University of Oklahoma/Fall 2021/ECE 5583-980 Information Theory and Probabilistic Programming/Project/Model Checkpoints/assets\n"
          ]
        },
        {
          "metadata": {
            "tags": null
          },
          "name": "stderr",
          "output_type": "stream",
          "text": [
            "INFO:tensorflow:Assets written to: /content/drive/MyDrive/University of Oklahoma/Fall 2021/ECE 5583-980 Information Theory and Probabilistic Programming/Project/Model Checkpoints/assets\n",
            "WARNING:absl:<keras.layers.recurrent.GRUCell object at 0x7fcb44e06c10> has the same name 'GRUCell' as a built-in Keras object. Consider renaming <class 'keras.layers.recurrent.GRUCell'> to avoid naming conflicts when loading with `tf.keras.models.load_model`. If renaming is not possible, pass the object in the `custom_objects` parameter of the load function.\n",
            "WARNING:absl:<keras.layers.recurrent.GRUCell object at 0x7fcb44f85d50> has the same name 'GRUCell' as a built-in Keras object. Consider renaming <class 'keras.layers.recurrent.GRUCell'> to avoid naming conflicts when loading with `tf.keras.models.load_model`. If renaming is not possible, pass the object in the `custom_objects` parameter of the load function.\n",
            "WARNING:absl:<keras.layers.recurrent.GRUCell object at 0x7fcb44f8c710> has the same name 'GRUCell' as a built-in Keras object. Consider renaming <class 'keras.layers.recurrent.GRUCell'> to avoid naming conflicts when loading with `tf.keras.models.load_model`. If renaming is not possible, pass the object in the `custom_objects` parameter of the load function.\n"
          ]
        },
        {
          "metadata": {
            "tags": null
          },
          "name": "stdout",
          "output_type": "stream",
          "text": [
            "1266/1266 [==============================] - 185s 146ms/step - loss: 0.3628 - accuracy: 0.8418 - val_loss: 0.4286 - val_accuracy: 0.8018\n",
            "Epoch 9/50\n",
            "1266/1266 [==============================] - 173s 137ms/step - loss: 0.3390 - accuracy: 0.8554 - val_loss: 0.5950 - val_accuracy: 0.7231\n",
            "Epoch 10/50\n",
            "1266/1266 [==============================] - ETA: 0s - loss: 0.3216 - accuracy: 0.8627"
          ]
        },
        {
          "metadata": {
            "tags": null
          },
          "name": "stderr",
          "output_type": "stream",
          "text": [
            "WARNING:absl:Found untraced functions such as gru_cell_12_layer_call_fn, gru_cell_12_layer_call_and_return_conditional_losses, gru_cell_10_layer_call_fn, gru_cell_10_layer_call_and_return_conditional_losses, gru_cell_11_layer_call_fn while saving (showing 5 of 15). These functions will not be directly callable after loading.\n"
          ]
        },
        {
          "metadata": {
            "tags": null
          },
          "name": "stdout",
          "output_type": "stream",
          "text": [
            "INFO:tensorflow:Assets written to: /content/drive/MyDrive/University of Oklahoma/Fall 2021/ECE 5583-980 Information Theory and Probabilistic Programming/Project/Model Checkpoints/assets\n"
          ]
        },
        {
          "metadata": {
            "tags": null
          },
          "name": "stderr",
          "output_type": "stream",
          "text": [
            "INFO:tensorflow:Assets written to: /content/drive/MyDrive/University of Oklahoma/Fall 2021/ECE 5583-980 Information Theory and Probabilistic Programming/Project/Model Checkpoints/assets\n",
            "WARNING:absl:<keras.layers.recurrent.GRUCell object at 0x7fcb44e06c10> has the same name 'GRUCell' as a built-in Keras object. Consider renaming <class 'keras.layers.recurrent.GRUCell'> to avoid naming conflicts when loading with `tf.keras.models.load_model`. If renaming is not possible, pass the object in the `custom_objects` parameter of the load function.\n",
            "WARNING:absl:<keras.layers.recurrent.GRUCell object at 0x7fcb44f85d50> has the same name 'GRUCell' as a built-in Keras object. Consider renaming <class 'keras.layers.recurrent.GRUCell'> to avoid naming conflicts when loading with `tf.keras.models.load_model`. If renaming is not possible, pass the object in the `custom_objects` parameter of the load function.\n",
            "WARNING:absl:<keras.layers.recurrent.GRUCell object at 0x7fcb44f8c710> has the same name 'GRUCell' as a built-in Keras object. Consider renaming <class 'keras.layers.recurrent.GRUCell'> to avoid naming conflicts when loading with `tf.keras.models.load_model`. If renaming is not possible, pass the object in the `custom_objects` parameter of the load function.\n"
          ]
        },
        {
          "metadata": {
            "tags": null
          },
          "name": "stdout",
          "output_type": "stream",
          "text": [
            "1266/1266 [==============================] - 178s 141ms/step - loss: 0.3216 - accuracy: 0.8627 - val_loss: 0.4164 - val_accuracy: 0.8233\n",
            "Epoch 11/50\n",
            "1266/1266 [==============================] - 189s 150ms/step - loss: 0.3051 - accuracy: 0.8711 - val_loss: 0.4940 - val_accuracy: 0.7838\n",
            "Epoch 12/50\n",
            "1266/1266 [==============================] - 161s 127ms/step - loss: 0.2909 - accuracy: 0.8799 - val_loss: 0.7063 - val_accuracy: 0.7093\n",
            "Epoch 13/50\n",
            "1266/1266 [==============================] - 161s 127ms/step - loss: 0.2754 - accuracy: 0.8855 - val_loss: 0.6360 - val_accuracy: 0.7247\n",
            "Epoch 14/50\n",
            "1266/1266 [==============================] - 160s 126ms/step - loss: 0.2667 - accuracy: 0.8898 - val_loss: 0.4374 - val_accuracy: 0.8211\n",
            "Epoch 15/50\n",
            "1266/1266 [==============================] - 161s 128ms/step - loss: 0.2505 - accuracy: 0.8961 - val_loss: 0.4615 - val_accuracy: 0.8142\n",
            "Epoch 16/50\n",
            "1266/1266 [==============================] - 161s 128ms/step - loss: 0.2421 - accuracy: 0.9012 - val_loss: 1.2132 - val_accuracy: 0.6458\n",
            "Epoch 17/50\n",
            "1266/1266 [==============================] - 169s 133ms/step - loss: 0.2365 - accuracy: 0.9035 - val_loss: 0.6651 - val_accuracy: 0.7689\n",
            "Epoch 18/50\n",
            "1266/1266 [==============================] - 168s 133ms/step - loss: 0.2210 - accuracy: 0.9109 - val_loss: 0.4892 - val_accuracy: 0.8113\n",
            "Epoch 19/50\n",
            "1266/1266 [==============================] - 177s 140ms/step - loss: 0.2201 - accuracy: 0.9103 - val_loss: 0.4947 - val_accuracy: 0.8129\n",
            "Epoch 20/50\n",
            "1266/1266 [==============================] - 175s 138ms/step - loss: 0.2011 - accuracy: 0.9196 - val_loss: 0.5247 - val_accuracy: 0.8107\n",
            "Epoch 21/50\n",
            "1266/1266 [==============================] - 167s 132ms/step - loss: 0.2109 - accuracy: 0.9151 - val_loss: 0.6542 - val_accuracy: 0.7611\n",
            "Epoch 22/50\n",
            "1266/1266 [==============================] - 170s 134ms/step - loss: 0.1970 - accuracy: 0.9209 - val_loss: 0.5148 - val_accuracy: 0.8138\n",
            "Epoch 23/50\n",
            "1266/1266 [==============================] - 162s 128ms/step - loss: 0.1846 - accuracy: 0.9278 - val_loss: 0.5376 - val_accuracy: 0.7891\n",
            "Epoch 24/50\n",
            "1266/1266 [==============================] - ETA: 0s - loss: 0.1795 - accuracy: 0.9284"
          ]
        },
        {
          "metadata": {
            "tags": null
          },
          "name": "stderr",
          "output_type": "stream",
          "text": [
            "WARNING:absl:Found untraced functions such as gru_cell_12_layer_call_fn, gru_cell_12_layer_call_and_return_conditional_losses, gru_cell_10_layer_call_fn, gru_cell_10_layer_call_and_return_conditional_losses, gru_cell_11_layer_call_fn while saving (showing 5 of 15). These functions will not be directly callable after loading.\n"
          ]
        },
        {
          "metadata": {
            "tags": null
          },
          "name": "stdout",
          "output_type": "stream",
          "text": [
            "INFO:tensorflow:Assets written to: /content/drive/MyDrive/University of Oklahoma/Fall 2021/ECE 5583-980 Information Theory and Probabilistic Programming/Project/Model Checkpoints/assets\n"
          ]
        },
        {
          "metadata": {
            "tags": null
          },
          "name": "stderr",
          "output_type": "stream",
          "text": [
            "INFO:tensorflow:Assets written to: /content/drive/MyDrive/University of Oklahoma/Fall 2021/ECE 5583-980 Information Theory and Probabilistic Programming/Project/Model Checkpoints/assets\n",
            "WARNING:absl:<keras.layers.recurrent.GRUCell object at 0x7fcb44e06c10> has the same name 'GRUCell' as a built-in Keras object. Consider renaming <class 'keras.layers.recurrent.GRUCell'> to avoid naming conflicts when loading with `tf.keras.models.load_model`. If renaming is not possible, pass the object in the `custom_objects` parameter of the load function.\n",
            "WARNING:absl:<keras.layers.recurrent.GRUCell object at 0x7fcb44f85d50> has the same name 'GRUCell' as a built-in Keras object. Consider renaming <class 'keras.layers.recurrent.GRUCell'> to avoid naming conflicts when loading with `tf.keras.models.load_model`. If renaming is not possible, pass the object in the `custom_objects` parameter of the load function.\n",
            "WARNING:absl:<keras.layers.recurrent.GRUCell object at 0x7fcb44f8c710> has the same name 'GRUCell' as a built-in Keras object. Consider renaming <class 'keras.layers.recurrent.GRUCell'> to avoid naming conflicts when loading with `tf.keras.models.load_model`. If renaming is not possible, pass the object in the `custom_objects` parameter of the load function.\n"
          ]
        },
        {
          "output_type": "stream",
          "name": "stdout",
          "text": [
            "1266/1266 [==============================] - 182s 143ms/step - loss: 0.1795 - accuracy: 0.9284 - val_loss: 0.4158 - val_accuracy: 0.8347\n",
            "Epoch 25/50\n",
            "1266/1266 [==============================] - 177s 140ms/step - loss: 0.1778 - accuracy: 0.9303 - val_loss: 0.8785 - val_accuracy: 0.7364\n",
            "Epoch 26/50\n",
            "1266/1266 [==============================] - 159s 126ms/step - loss: 0.1766 - accuracy: 0.9296 - val_loss: 0.9657 - val_accuracy: 0.7258\n",
            "Epoch 27/50\n",
            "1266/1266 [==============================] - 160s 126ms/step - loss: 0.1713 - accuracy: 0.9317 - val_loss: 0.4730 - val_accuracy: 0.8176\n",
            "Epoch 28/50\n",
            "1266/1266 [==============================] - 159s 125ms/step - loss: 0.1644 - accuracy: 0.9357 - val_loss: 0.5394 - val_accuracy: 0.8193\n",
            "Epoch 29/50\n",
            "1266/1266 [==============================] - 159s 125ms/step - loss: 0.1596 - accuracy: 0.9368 - val_loss: 0.4692 - val_accuracy: 0.8218\n",
            "Epoch 30/50\n",
            "1266/1266 [==============================] - 158s 125ms/step - loss: 0.1572 - accuracy: 0.9380 - val_loss: 0.4817 - val_accuracy: 0.8336\n",
            "Epoch 31/50\n",
            "1266/1266 [==============================] - 160s 126ms/step - loss: 0.1483 - accuracy: 0.9419 - val_loss: 0.4772 - val_accuracy: 0.8222\n",
            "Epoch 32/50\n",
            "1266/1266 [==============================] - 160s 126ms/step - loss: 0.1482 - accuracy: 0.9426 - val_loss: 0.4868 - val_accuracy: 0.8262\n",
            "Epoch 33/50\n",
            "1266/1266 [==============================] - 159s 126ms/step - loss: 0.1450 - accuracy: 0.9432 - val_loss: 0.4756 - val_accuracy: 0.8302\n",
            "Epoch 34/50\n",
            "1266/1266 [==============================] - 164s 130ms/step - loss: 0.1388 - accuracy: 0.9463 - val_loss: 0.5039 - val_accuracy: 0.8316\n",
            "Epoch 35/50\n",
            "1266/1266 [==============================] - 158s 125ms/step - loss: 0.1374 - accuracy: 0.9479 - val_loss: 0.5334 - val_accuracy: 0.8329\n",
            "Epoch 36/50\n",
            "1266/1266 [==============================] - 159s 125ms/step - loss: 0.1349 - accuracy: 0.9481 - val_loss: 0.4678 - val_accuracy: 0.8278\n",
            "Epoch 37/50\n",
            "1266/1266 [==============================] - 159s 126ms/step - loss: 0.1332 - accuracy: 0.9486 - val_loss: 0.4794 - val_accuracy: 0.8304\n",
            "Epoch 38/50\n",
            "1266/1266 [==============================] - 160s 127ms/step - loss: 0.1323 - accuracy: 0.9494 - val_loss: 0.7954 - val_accuracy: 0.7613\n",
            "Epoch 39/50\n",
            "1266/1266 [==============================] - 162s 128ms/step - loss: 0.1295 - accuracy: 0.9515 - val_loss: 0.4939 - val_accuracy: 0.8267\n",
            "Epoch 40/50\n",
            "1266/1266 [==============================] - 164s 130ms/step - loss: 0.1253 - accuracy: 0.9515 - val_loss: 0.5510 - val_accuracy: 0.8271\n",
            "Epoch 41/50\n",
            "1266/1266 [==============================] - 162s 128ms/step - loss: 0.1248 - accuracy: 0.9519 - val_loss: 0.6013 - val_accuracy: 0.8127\n",
            "Epoch 42/50\n",
            "1266/1266 [==============================] - 162s 128ms/step - loss: 0.1222 - accuracy: 0.9545 - val_loss: 0.5210 - val_accuracy: 0.8333\n",
            "Epoch 43/50\n",
            "1266/1266 [==============================] - 162s 128ms/step - loss: 0.1167 - accuracy: 0.9555 - val_loss: 0.4574 - val_accuracy: 0.8331\n",
            "Epoch 44/50\n",
            "1266/1266 [==============================] - 162s 128ms/step - loss: 0.1168 - accuracy: 0.9560 - val_loss: 0.6176 - val_accuracy: 0.8104\n",
            "Epoch 45/50\n",
            "1266/1266 [==============================] - 170s 134ms/step - loss: 0.1145 - accuracy: 0.9559 - val_loss: 0.5266 - val_accuracy: 0.8262\n",
            "Epoch 46/50\n",
            "1266/1266 [==============================] - 164s 130ms/step - loss: 0.1125 - accuracy: 0.9575 - val_loss: 0.5806 - val_accuracy: 0.8047\n",
            "Epoch 47/50\n",
            "1266/1266 [==============================] - 171s 135ms/step - loss: 0.1094 - accuracy: 0.9584 - val_loss: 0.5975 - val_accuracy: 0.8329\n",
            "Epoch 48/50\n",
            "1266/1266 [==============================] - 162s 128ms/step - loss: 0.1092 - accuracy: 0.9589 - val_loss: 0.6082 - val_accuracy: 0.8049\n",
            "Epoch 49/50\n",
            "1266/1266 [==============================] - 162s 128ms/step - loss: 0.1099 - accuracy: 0.9582 - val_loss: 0.5371 - val_accuracy: 0.8329\n",
            "Epoch 50/50\n",
            "1266/1266 [==============================] - ETA: 0s - loss: 0.1081 - accuracy: 0.9593"
          ]
        },
        {
          "output_type": "stream",
          "name": "stderr",
          "text": [
            "WARNING:absl:Found untraced functions such as gru_cell_12_layer_call_fn, gru_cell_12_layer_call_and_return_conditional_losses, gru_cell_10_layer_call_fn, gru_cell_10_layer_call_and_return_conditional_losses, gru_cell_11_layer_call_fn while saving (showing 5 of 15). These functions will not be directly callable after loading.\n"
          ]
        },
        {
          "output_type": "stream",
          "name": "stdout",
          "text": [
            "INFO:tensorflow:Assets written to: /content/drive/MyDrive/University of Oklahoma/Fall 2021/ECE 5583-980 Information Theory and Probabilistic Programming/Project/Model Checkpoints/assets\n"
          ]
        },
        {
          "output_type": "stream",
          "name": "stderr",
          "text": [
            "INFO:tensorflow:Assets written to: /content/drive/MyDrive/University of Oklahoma/Fall 2021/ECE 5583-980 Information Theory and Probabilistic Programming/Project/Model Checkpoints/assets\n",
            "WARNING:absl:<keras.layers.recurrent.GRUCell object at 0x7fcb44e06c10> has the same name 'GRUCell' as a built-in Keras object. Consider renaming <class 'keras.layers.recurrent.GRUCell'> to avoid naming conflicts when loading with `tf.keras.models.load_model`. If renaming is not possible, pass the object in the `custom_objects` parameter of the load function.\n",
            "WARNING:absl:<keras.layers.recurrent.GRUCell object at 0x7fcb44f85d50> has the same name 'GRUCell' as a built-in Keras object. Consider renaming <class 'keras.layers.recurrent.GRUCell'> to avoid naming conflicts when loading with `tf.keras.models.load_model`. If renaming is not possible, pass the object in the `custom_objects` parameter of the load function.\n",
            "WARNING:absl:<keras.layers.recurrent.GRUCell object at 0x7fcb44f8c710> has the same name 'GRUCell' as a built-in Keras object. Consider renaming <class 'keras.layers.recurrent.GRUCell'> to avoid naming conflicts when loading with `tf.keras.models.load_model`. If renaming is not possible, pass the object in the `custom_objects` parameter of the load function.\n"
          ]
        },
        {
          "output_type": "stream",
          "name": "stdout",
          "text": [
            "\b\b\b\b\b\b\b\b\b\b\b\b\b\b\b\b\b\b\b\b\b\b\b\b\b\b\b\b\b\b\b\b\b\b\b\b\b\b\b\b\b\b\b\b\b\b\b\b\b\b\b\b\b\b\b\b\b\b\b\b\b\b\b\b\b\b\b\b\b\b\b\b\b\b\b\b\b\b\b\b\b\b\b\b\b\b\r1266/1266 [==============================] - 180s 142ms/step - loss: 0.1081 - accuracy: 0.9593 - val_loss: 0.5140 - val_accuracy: 0.8349\n"
          ]
        },
        {
          "output_type": "execute_result",
          "data": {
            "text/plain": [
              "<keras.callbacks.History at 0x7fcb44f664d0>"
            ]
          },
          "metadata": {},
          "execution_count": 42
        }
      ]
    },
    {
      "cell_type": "code",
      "source": [
        "gru_model.fit(X_train, Y_train, epochs=5, validation_data=(X_val, Y_val), callbacks=[checkpoints])"
      ],
      "metadata": {
        "colab": {
          "base_uri": "https://localhost:8080/"
        },
        "outputId": "88d4ed07-f3ac-4fdf-ff7e-e49bdd97e3bb",
        "id": "bGGH-o8lUAjJ"
      },
      "execution_count": null,
      "outputs": [
        {
          "output_type": "stream",
          "name": "stdout",
          "text": [
            "Epoch 1/5\n",
            "1266/1266 [==============================] - 194s 154ms/step - loss: 0.1044 - accuracy: 0.9610 - val_loss: 0.7038 - val_accuracy: 0.8144\n",
            "Epoch 2/5\n",
            "1266/1266 [==============================] - 173s 137ms/step - loss: 0.1062 - accuracy: 0.9607 - val_loss: 0.5869 - val_accuracy: 0.8222\n",
            "Epoch 3/5\n",
            "1266/1266 [==============================] - 160s 126ms/step - loss: 0.1049 - accuracy: 0.9603 - val_loss: 0.6895 - val_accuracy: 0.7976\n",
            "Epoch 4/5\n",
            "1266/1266 [==============================] - 160s 126ms/step - loss: 0.0980 - accuracy: 0.9632 - val_loss: 0.6085 - val_accuracy: 0.8307\n",
            "Epoch 5/5\n",
            "1266/1266 [==============================] - 160s 126ms/step - loss: 0.1007 - accuracy: 0.9627 - val_loss: 0.9254 - val_accuracy: 0.7698\n"
          ]
        },
        {
          "output_type": "execute_result",
          "data": {
            "text/plain": [
              "<keras.callbacks.History at 0x7fcabd7f7290>"
            ]
          },
          "metadata": {},
          "execution_count": 43
        }
      ]
    },
    {
      "cell_type": "code",
      "source": [
        "plt.figure()\n",
        "plt.plot(gru_model.history.hisotry['accuracy'], label='Training Accuracy')\n",
        "plt.plot(gru_model.history.hisotry['val_accuracy'], label='Validation Accuracy')\n",
        "plt.title('Bi-GRU+CONV Accuracy')\n",
        "plt.legend()\n",
        "plt.show()"
      ],
      "metadata": {
        "colab": {
          "base_uri": "https://localhost:8080/",
          "height": 281
        },
        "id": "oJ5fybTKHTk2",
        "outputId": "599946e6-3bb3-490b-ea37-4e8c5fe286e7"
      },
      "execution_count": null,
      "outputs": [
        {
          "output_type": "display_data",
          "data": {
            "image/png": "[encoded data removed]",
            "text/plain": [
              "<Figure size 432x288 with 1 Axes>"
            ]
          },
          "metadata": {
            "needs_background": "light"
          }
        }
      ]
    },
    {
      "cell_type": "markdown",
      "source": [
        "Test accuracy:"
      ],
      "metadata": {
        "id": "17Jxu8nGIE6d"
      }
    },
    {
      "cell_type": "code",
      "source": [
        "preds = gru_model.predict(X_test)"
      ],
      "metadata": {
        "id": "8Zdie8OimDBo"
      },
      "execution_count": null,
      "outputs": []
    },
    {
      "cell_type": "code",
      "source": [
        "preds = [1 if x > 0.5 else 0 for x in preds]"
      ],
      "metadata": {
        "id": "T1qcB6Rzmpfu"
      },
      "execution_count": null,
      "outputs": []
    },
    {
      "cell_type": "code",
      "source": [
        "accuracy_score(preds, Y_test.reshape((Y_test.shape[0], 1)))"
      ],
      "metadata": {
        "colab": {
          "base_uri": "https://localhost:8080/"
        },
        "id": "__q8UqvSkMx6",
        "outputId": "03a73f7c-7b73-4a51-accc-15089da5d6d2"
      },
      "execution_count": null,
      "outputs": [
        {
          "output_type": "execute_result",
          "data": {
            "text/plain": [
              "0.8376"
            ]
          },
          "metadata": {},
          "execution_count": 19
        }
      ]
    },
    {
      "cell_type": "code",
      "source": [
        ""
      ],
      "metadata": {
        "id": "cgtqA-sUCVur"
      },
      "execution_count": null,
      "outputs": []
    },
    {
      "cell_type": "markdown",
      "source": [
        "#Thank you!"
      ],
      "metadata": {
        "id": "zl9g167UCWNT"
      }
    }
  ]
}